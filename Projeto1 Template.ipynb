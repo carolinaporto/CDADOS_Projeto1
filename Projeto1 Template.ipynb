{
 "cells": [
  {
   "cell_type": "markdown",
   "metadata": {},
   "source": [
    "# Projeto 1 - Ciência dos Dados"
   ]
  },
  {
   "cell_type": "markdown",
   "metadata": {},
   "source": [
    "Nome: Thomas Kassabian\n",
    "\n",
    "Nome: Maria Carolina Pôrto\n",
    "\n",
    "Nome: Kaique Pelizer Tinto\n",
    "\n",
    "Nome: Eduardo Candeias"
   ]
  },
  {
   "cell_type": "markdown",
   "metadata": {},
   "source": [
    "Atenção: Serão permitidos grupos de quatro pessoas, mas com uma rubrica mais exigente. Grupos deste tamanho precisarão fazer um questionário de avaliação de trabalho em equipe"
   ]
  },
  {
   "cell_type": "markdown",
   "metadata": {},
   "source": [
    "___\n",
    "Carregando algumas bibliotecas:"
   ]
  },
  {
   "cell_type": "code",
   "execution_count": 7,
   "metadata": {},
   "outputs": [],
   "source": [
    "%matplotlib inline\n",
    "import pandas as pd\n",
    "import matplotlib.pyplot as plt\n",
    "import numpy as np\n",
    "import os"
   ]
  },
  {
   "cell_type": "code",
   "execution_count": 8,
   "metadata": {
    "scrolled": false
   },
   "outputs": [
    {
     "name": "stdout",
     "output_type": "stream",
     "text": [
      "Esperamos trabalhar no diretório\n",
      "c:\\Users\\othom\\OneDrive - Insper - Institudo de Ensino e Pesquisa\\insper\\Disciplinas\\2\\CDados\\Projetos\\CDADOS_Projeto1\n"
     ]
    }
   ],
   "source": [
    "print('Esperamos trabalhar no diretório')\n",
    "print(os.getcwd())"
   ]
  },
  {
   "cell_type": "markdown",
   "metadata": {},
   "source": [
    "Carregando a base de dados com os tweets classificados manualmente:"
   ]
  },
  {
   "cell_type": "code",
   "execution_count": 9,
   "metadata": {},
   "outputs": [
    {
     "data": {
      "text/html": [
       "<div>\n",
       "<style scoped>\n",
       "    .dataframe tbody tr th:only-of-type {\n",
       "        vertical-align: middle;\n",
       "    }\n",
       "\n",
       "    .dataframe tbody tr th {\n",
       "        vertical-align: top;\n",
       "    }\n",
       "\n",
       "    .dataframe thead th {\n",
       "        text-align: right;\n",
       "    }\n",
       "</style>\n",
       "<table border=\"1\" class=\"dataframe\">\n",
       "  <thead>\n",
       "    <tr style=\"text-align: right;\">\n",
       "      <th></th>\n",
       "      <th>Review</th>\n",
       "      <th>NPS</th>\n",
       "    </tr>\n",
       "  </thead>\n",
       "  <tbody>\n",
       "    <tr>\n",
       "      <th>0</th>\n",
       "      <td>Bangkok to Phuket round trip. The lounge at th...</td>\n",
       "      <td>Promoter</td>\n",
       "    </tr>\n",
       "    <tr>\n",
       "      <th>1</th>\n",
       "      <td>A real mixed bag with Air New Zealand from Auc...</td>\n",
       "      <td>Passive</td>\n",
       "    </tr>\n",
       "    <tr>\n",
       "      <th>2</th>\n",
       "      <td>Second in the queue in business class check-...</td>\n",
       "      <td>Detractor</td>\n",
       "    </tr>\n",
       "    <tr>\n",
       "      <th>3</th>\n",
       "      <td>London Heathrow to Riyadh return. Pleasant f...</td>\n",
       "      <td>Promoter</td>\n",
       "    </tr>\n",
       "    <tr>\n",
       "      <th>4</th>\n",
       "      <td>Hong Kong to Bangkok. Check-in at the transf...</td>\n",
       "      <td>Promoter</td>\n",
       "    </tr>\n",
       "  </tbody>\n",
       "</table>\n",
       "</div>"
      ],
      "text/plain": [
       "                                              Review        NPS\n",
       "0  Bangkok to Phuket round trip. The lounge at th...   Promoter\n",
       "1  A real mixed bag with Air New Zealand from Auc...    Passive\n",
       "2    Second in the queue in business class check-...  Detractor\n",
       "3    London Heathrow to Riyadh return. Pleasant f...   Promoter\n",
       "4    Hong Kong to Bangkok. Check-in at the transf...   Promoter"
      ]
     },
     "execution_count": 9,
     "metadata": {},
     "output_type": "execute_result"
    }
   ],
   "source": [
    "train = pd.read_csv('dados_treino_QUARTETO_Thomas.csv')\n",
    "train.head(5)"
   ]
  },
  {
   "cell_type": "code",
   "execution_count": 10,
   "metadata": {},
   "outputs": [
    {
     "data": {
      "text/html": [
       "<div>\n",
       "<style scoped>\n",
       "    .dataframe tbody tr th:only-of-type {\n",
       "        vertical-align: middle;\n",
       "    }\n",
       "\n",
       "    .dataframe tbody tr th {\n",
       "        vertical-align: top;\n",
       "    }\n",
       "\n",
       "    .dataframe thead th {\n",
       "        text-align: right;\n",
       "    }\n",
       "</style>\n",
       "<table border=\"1\" class=\"dataframe\">\n",
       "  <thead>\n",
       "    <tr style=\"text-align: right;\">\n",
       "      <th></th>\n",
       "      <th>Review</th>\n",
       "      <th>NPS</th>\n",
       "    </tr>\n",
       "  </thead>\n",
       "  <tbody>\n",
       "    <tr>\n",
       "      <th>0</th>\n",
       "      <td>Melbourne to Singapore on a Singapore Airlines...</td>\n",
       "      <td>Promoter</td>\n",
       "    </tr>\n",
       "    <tr>\n",
       "      <th>1</th>\n",
       "      <td>Palermo to Moscow via Rome and I was so unluc...</td>\n",
       "      <td>Detractor</td>\n",
       "    </tr>\n",
       "    <tr>\n",
       "      <th>2</th>\n",
       "      <td>Actual flight both ways was good but the handl...</td>\n",
       "      <td>Passive</td>\n",
       "    </tr>\n",
       "    <tr>\n",
       "      <th>3</th>\n",
       "      <td>Flew Spirit Airlines from Orlando to Boston....</td>\n",
       "      <td>Detractor</td>\n",
       "    </tr>\n",
       "    <tr>\n",
       "      <th>4</th>\n",
       "      <td>Shockingly poor experience on many levels, as...</td>\n",
       "      <td>Detractor</td>\n",
       "    </tr>\n",
       "  </tbody>\n",
       "</table>\n",
       "</div>"
      ],
      "text/plain": [
       "                                              Review        NPS\n",
       "0  Melbourne to Singapore on a Singapore Airlines...   Promoter\n",
       "1   Palermo to Moscow via Rome and I was so unluc...  Detractor\n",
       "2  Actual flight both ways was good but the handl...    Passive\n",
       "3    Flew Spirit Airlines from Orlando to Boston....  Detractor\n",
       "4   Shockingly poor experience on many levels, as...  Detractor"
      ]
     },
     "execution_count": 10,
     "metadata": {},
     "output_type": "execute_result"
    }
   ],
   "source": [
    "test = pd.read_csv('dados_teste_QUARTETO_Thomas.csv')\n",
    "test.head(5)"
   ]
  },
  {
   "cell_type": "markdown",
   "metadata": {},
   "source": [
    "### Limpando a base de dados"
   ]
  },
  {
   "cell_type": "code",
   "execution_count": 40,
   "metadata": {},
   "outputs": [
    {
     "data": {
      "text/html": [
       "<div>\n",
       "<style scoped>\n",
       "    .dataframe tbody tr th:only-of-type {\n",
       "        vertical-align: middle;\n",
       "    }\n",
       "\n",
       "    .dataframe tbody tr th {\n",
       "        vertical-align: top;\n",
       "    }\n",
       "\n",
       "    .dataframe thead th {\n",
       "        text-align: right;\n",
       "    }\n",
       "</style>\n",
       "<table border=\"1\" class=\"dataframe\">\n",
       "  <thead>\n",
       "    <tr style=\"text-align: right;\">\n",
       "      <th></th>\n",
       "      <th>Review</th>\n",
       "      <th>NPS</th>\n",
       "    </tr>\n",
       "  </thead>\n",
       "  <tbody>\n",
       "    <tr>\n",
       "      <th>0</th>\n",
       "      <td>bangkok phuket round available free wifi fast ...</td>\n",
       "      <td>Promoter</td>\n",
       "    </tr>\n",
       "    <tr>\n",
       "      <th>1</th>\n",
       "      <td>a real mixed air new zealand auckland shanghai...</td>\n",
       "      <td>Passive</td>\n",
       "    </tr>\n",
       "    <tr>\n",
       "      <th>2</th>\n",
       "      <td>second queue line issue pax front phone tryi...</td>\n",
       "      <td>Detractor</td>\n",
       "    </tr>\n",
       "    <tr>\n",
       "      <th>3</th>\n",
       "      <td>london heathrow riyadh pleasant legs boarded...</td>\n",
       "      <td>Promoter</td>\n",
       "    </tr>\n",
       "    <tr>\n",
       "      <th>4</th>\n",
       "      <td>hong kong bangkok transfer desk hkg efficien...</td>\n",
       "      <td>Promoter</td>\n",
       "    </tr>\n",
       "    <tr>\n",
       "      <th>5</th>\n",
       "      <td>hkg-svo-hkg a330 legs slightly planes reasonab...</td>\n",
       "      <td>Passive</td>\n",
       "    </tr>\n",
       "    <tr>\n",
       "      <th>6</th>\n",
       "      <td>bodhgaya delhi latest 20 domestic flights se...</td>\n",
       "      <td>Passive</td>\n",
       "    </tr>\n",
       "    <tr>\n",
       "      <th>7</th>\n",
       "      <td>they kept us airplane 2 hours initially hardly...</td>\n",
       "      <td>Detractor</td>\n",
       "    </tr>\n",
       "    <tr>\n",
       "      <th>8</th>\n",
       "      <td>kuala lumpur krabi despite airasia value pack ...</td>\n",
       "      <td>Passive</td>\n",
       "    </tr>\n",
       "    <tr>\n",
       "      <th>9</th>\n",
       "      <td>frankfurt lima via madrid air europa frankfurt...</td>\n",
       "      <td>Passive</td>\n",
       "    </tr>\n",
       "  </tbody>\n",
       "</table>\n",
       "</div>"
      ],
      "text/plain": [
       "                                              Review        NPS\n",
       "0  bangkok phuket round available free wifi fast ...   Promoter\n",
       "1  a real mixed air new zealand auckland shanghai...    Passive\n",
       "2    second queue line issue pax front phone tryi...  Detractor\n",
       "3    london heathrow riyadh pleasant legs boarded...   Promoter\n",
       "4    hong kong bangkok transfer desk hkg efficien...   Promoter\n",
       "5  hkg-svo-hkg a330 legs slightly planes reasonab...    Passive\n",
       "6    bodhgaya delhi latest 20 domestic flights se...    Passive\n",
       "7  they kept us airplane 2 hours initially hardly...  Detractor\n",
       "8  kuala lumpur krabi despite airasia value pack ...    Passive\n",
       "9  frankfurt lima via madrid air europa frankfurt...    Passive"
      ]
     },
     "execution_count": 40,
     "metadata": {},
     "output_type": "execute_result"
    }
   ],
   "source": [
    "characs = ',.!?:;/()'\n",
    "stopwords = ['t','they', 'a', 'herself', 'beverages', 'claim', 'window', 'miles', 'she', 'stopover', 'policies', 'his', 'have', 'who', 'be', 'reward', 'bags', 'claims', 'to', 'economy', 'in', 'or', 'program', 'before', 'are', 'airlines', 'baggage', 'ratings', 'check-in', 'crew', 'that', 'connecting', 'status', 'with', 'plane', 'non-stop', 'him', 'because', 'same', 'than', 'review', 'some', 'more', 'airport', 'arrival', 'airline', 'first', 'does', 'surcharge', 'both', 'tax', 'if', 'on', 'experience', 'so', 'most', 'security', 'no', 'middle', 'above', 'business', 'a', 'up', 'complaint', 'of', 'under', 'gate', 'prices', 'meal', 'cabin', 'delay', 'me', 'himself', 'myself', 'your', 'yours', 'my', 'them', 'duty-free', 'were', 'is', 'staff', 'turbulence', 'then', 'each', 'other', 'such', 'membership', 'pre-flight', 'can', 'did', 'comfort', 'cost', 'taxes', 'which', 'meals', 'hers', 'jet', 'as', 'off', 'departure', 'attendant', 'aisle', 'am', 'been', 'legroom', 'why', 'their', 'her', 'ground', 'feedback', 'from', 'surcharges', 'too', 'doing', 'until', 'drinks', 'alliance', 'during', 'itself', 'now', 'promotions', 'discounts', 'not', 'there', 'being', 'between', 'about', 'very', 'offer', 'ours', 'further', 'attendants', 'weather', 'in-flight', 'connect', 'price', 'below', 'route', 'snack', 'service', 'class', 'trip', 'frequent', 'at', 'themselves', 'against', 'schedule', 'post-flight', 'our', 'flyer', 'spokes', 'board', 'entertainment', 'code-share', 'aviation', 'yourself', 'these', 'you', 'charges', 'do', 'upgrade', 'aircraft', 'mile', 'any', 'tickets', 'amenity', 'member', 'just', 'book', 'should', 'has', 'when', 'complaints', 'out', 'policy', 'charge', 'we', 'return', 'layover', 'beverage', 'whom', 'while', 'cancel', 'how', 'don', 'destination', 'travel', 'once', 'here', 'maintenance', 'luggage', 'food', 'nor', 'bins', 'offers', 'terminal', 'discount', 'deal', 'over', 'flight', 'will', 'onboard', 'connection', 'an', 'few', 'sale', 'all', 'procedure', 'lounge', 'passengers', 'fees', 'traveller', 'theirs', 's', 'hub', 'fare', 'deals', 'down', 'ourselves', 'they', 'into', 'reviews', 'customer', 'passenger', 'pilot', 'it', 'overhead', 'he', 'its', 'and', 'had', 'insurance', 'for', 'elite', 'booking', 'snacks', 'i', 'partnership', 'checked', 'carry-on', 'reservation', 'journey', 'only', 'seat', 'seats', 'ticket', 'pilots', 'this', 'having', 'bag', 'bin', 'amenities', 'delayed', 'was', 'promotion', 'fee', 'routes', 'through', 'again', 'the', 'direct', 'after', 'cancelled', 'points', 'where', 'safety', 'procedures', 'drink', 'travellers', 'by', 'sales', 'own', 'but', 'what', 'yourselves', 'boarding', 'those', 'rating']\n",
    "\n",
    "for c in characs:\n",
    "    train['Review'] = train['Review'].str.replace(c, '').str.lower()\n",
    "    test['Review'] = test['Review'].str.replace(c, '').str.lower()\n",
    "\n",
    "for w in stopwords:\n",
    "    train['Review'] = train['Review'].str.replace(' ' + w + ' ', ' ')\n",
    "    test['Review'] = test['Review'].str.replace(' ' + w + ' ', ' ')\n",
    "\n",
    "train.head(10)"
   ]
  },
  {
   "cell_type": "markdown",
   "metadata": {},
   "source": [
    "### Separando os dados em series"
   ]
  },
  {
   "cell_type": "code",
   "execution_count": 31,
   "metadata": {},
   "outputs": [],
   "source": [
    "# Separando as palavras por classificação\n",
    "classificacoes = ['Promoter', 'Detractor', 'Passive']\n",
    "palavras_dict = {}\n",
    "\n",
    "for e in classificacoes:\n",
    "    palavras_lista = []\n",
    "\n",
    "    for linha in train[train['NPS'] == e]['Review']:\n",
    "        palavras = linha.split()\n",
    "        for palavra in palavras:\n",
    "            palavras_lista.append(palavra)\n",
    "    \n",
    "\n",
    "    palavras_dict[e] = palavras_lista\n",
    "\n",
    "palavras_promoter = pd.Series(palavras_dict['Promoter'])\n",
    "palavras_detractor = pd.Series(palavras_dict['Detractor'])\n",
    "palavras_passive = pd.Series(palavras_dict['Passive'])"
   ]
  },
  {
   "cell_type": "markdown",
   "metadata": {},
   "source": [
    "### Contagem"
   ]
  },
  {
   "cell_type": "code",
   "execution_count": 15,
   "metadata": {},
   "outputs": [],
   "source": [
    "# Frequência absoluta das categorias\n",
    "tabela_categorias = train['NPS'].value_counts()\n",
    "\n",
    "# Frequência relativa das categorias\n",
    "tabela_categorias_relativa = train['NPS'].value_counts(True)\n",
    "\n",
    "# Frequência absoluta das palavras\n",
    "tabela_promoter = palavras_promoter.value_counts()\n",
    "tabela_detractor = palavras_detractor.value_counts()\n",
    "tabela_passive = palavras_passive.value_counts()\n",
    "\n",
    "# Frequência relativa das palavras\n",
    "tabela_promoter_relativa = palavras_promoter.value_counts(True)\n",
    "tabela_detractor_relativa = palavras_detractor.value_counts(True)\n",
    "tabela_passive_relativa = palavras_passive.value_counts(True)"
   ]
  },
  {
   "cell_type": "markdown",
   "metadata": {},
   "source": [
    "___\n",
    "## Classificador automático\n"
   ]
  },
  {
   "cell_type": "markdown",
   "metadata": {},
   "source": [
    "Faça aqui uma descrição do seu assunto e o que considerou como relevante ou não relevante na classificação dos tweets (Target).\n",
    "\n",
    "ESCREVA AQUI..."
   ]
  },
  {
   "cell_type": "markdown",
   "metadata": {},
   "source": [
    "___\n",
    "### Montando um Classificador Naive-Bayes\n",
    "\n",
    "Considerando apenas as mensagens da planilha Treinamento, ensine  seu classificador."
   ]
  },
  {
   "cell_type": "code",
   "execution_count": null,
   "metadata": {},
   "outputs": [],
   "source": [
    "def classifier(review):\n",
    "    "
   ]
  },
  {
   "cell_type": "markdown",
   "metadata": {},
   "source": [
    "___\n",
    "### Verificando a performance do Classificador\n",
    "\n",
    "Agora você deve testar o seu classificador com a base de Testes."
   ]
  },
  {
   "cell_type": "code",
   "execution_count": null,
   "metadata": {},
   "outputs": [],
   "source": []
  },
  {
   "cell_type": "code",
   "execution_count": null,
   "metadata": {},
   "outputs": [],
   "source": []
  },
  {
   "cell_type": "code",
   "execution_count": null,
   "metadata": {},
   "outputs": [],
   "source": []
  },
  {
   "cell_type": "markdown",
   "metadata": {},
   "source": [
    "___\n",
    "### Concluindo"
   ]
  },
  {
   "cell_type": "code",
   "execution_count": null,
   "metadata": {},
   "outputs": [],
   "source": []
  },
  {
   "cell_type": "code",
   "execution_count": null,
   "metadata": {},
   "outputs": [],
   "source": []
  },
  {
   "cell_type": "code",
   "execution_count": null,
   "metadata": {},
   "outputs": [],
   "source": []
  },
  {
   "cell_type": "markdown",
   "metadata": {},
   "source": [
    "___\n",
    "### Qualidade do Classificador a partir de novas separações dos tweets entre Treinamento e Teste\n",
    "\n",
    "Caso for fazer esse item do Projeto"
   ]
  },
  {
   "cell_type": "code",
   "execution_count": null,
   "metadata": {},
   "outputs": [],
   "source": []
  },
  {
   "cell_type": "code",
   "execution_count": null,
   "metadata": {},
   "outputs": [],
   "source": []
  },
  {
   "cell_type": "code",
   "execution_count": null,
   "metadata": {},
   "outputs": [],
   "source": []
  },
  {
   "cell_type": "markdown",
   "metadata": {},
   "source": [
    "___\n",
    "## Aperfeiçoamento:\n",
    "\n",
    "Trabalhos que conseguirem pelo menos conceito B vão evoluir em conceito dependendo da quantidade de itens avançados:\n",
    "\n",
    "* IMPLEMENTOU outras limpezas e transformações que não afetem a qualidade da informação contida nos tweets. Ex: stemming, lemmatization, stopwords\n",
    "* CONSIDEROU mais de duas categorias na variável Target e INCREMENTOU a quantidade de notícias, mantendo pelo menos 250 notícias por categoria (OBRIGATÓRIO PARA TRIOS, sem contar como item avançado)\n",
    "* Para Target com duas categorias: CRIOU pelo menos quatro categorias intermediárias de relevância baseadas na probabilidade: ex.: muito relevante, relevante, neutro, irrelevante, muito irrelevante\n",
    "* EXPLICOU porquê não pode usar o próprio classificador para gerar mais amostras de treinamento\n",
    "* PROPÔS diferentes cenários para Naïve Bayes fora do contexto do projeto (pelo menos dois cenários, exceto aqueles já apresentados em sala pelos professores: por exemplo, filtro de spam)\n",
    "* SUGERIU e EXPLICOU melhorias reais com indicações concretas de como implementar (indicar como fazer e indicar material de pesquisa)\n",
    "* FEZ o item Qualidade do Classificador a partir de novas separações das Notícias entre Treinamento e Teste descrito no enunciado do projeto (OBRIGATÓRIO para conceitos A ou A+)"
   ]
  },
  {
   "cell_type": "markdown",
   "metadata": {},
   "source": [
    "___\n",
    "## Referências"
   ]
  },
  {
   "cell_type": "markdown",
   "metadata": {},
   "source": [
    "[Naive Bayes and Text Classification](https://arxiv.org/pdf/1410.5329.pdf)  **Mais completo**\n",
    "\n",
    "[A practical explanation of a Naive Bayes Classifier](https://monkeylearn.com/blog/practical-explanation-naive-bayes-classifier/) **Mais simples**"
   ]
  },
  {
   "cell_type": "code",
   "execution_count": null,
   "metadata": {},
   "outputs": [],
   "source": []
  }
 ],
 "metadata": {
  "kernelspec": {
   "display_name": "Python 3 (ipykernel)",
   "language": "python",
   "name": "python3"
  },
  "language_info": {
   "codemirror_mode": {
    "name": "ipython",
    "version": 3
   },
   "file_extension": ".py",
   "mimetype": "text/x-python",
   "name": "python",
   "nbconvert_exporter": "python",
   "pygments_lexer": "ipython3",
   "version": "3.12.2"
  }
 },
 "nbformat": 4,
 "nbformat_minor": 4
}
