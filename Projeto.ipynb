{
 "cells": [
  {
   "cell_type": "markdown",
   "metadata": {},
   "source": [
    "# Projeto 1 - Ciência dos Dados"
   ]
  },
  {
   "cell_type": "markdown",
   "metadata": {},
   "source": [
    "Nome: Maria Carolina Porto \n",
    "\n",
    "Nome: Thomas Kassabian\n",
    "\n",
    "Nome: Kaique Tinto\n",
    "\n",
    "Nome: Eduardo Candeias"
   ]
  },
  {
   "cell_type": "markdown",
   "metadata": {},
   "source": [
    "___\n",
    "Carregando algumas bibliotecas:"
   ]
  },
  {
   "cell_type": "code",
   "execution_count": null,
   "metadata": {},
   "outputs": [],
   "source": [
    "%matplotlib inline\n",
    "import pandas as pd\n",
    "import matplotlib.pyplot as plt\n",
    "import numpy as np\n",
    "import os\n",
    "import re"
   ]
  },
  {
   "cell_type": "markdown",
   "metadata": {},
   "source": [
    "___\n",
    "## Classificador automático\n"
   ]
  },
  {
   "cell_type": "markdown",
   "metadata": {},
   "source": [
    "Esse classificador tem por objetivo ensinar um Boot a classificar corretamente os reviews de clientes de uma companhia aérea. Para isso, utilizamos um dataFrame \"Train\" para treiná-lo, e um dataFrame distinto \"Test\" para testá-lo.\n",
    "\n",
    "As possíveis classificações são:\n",
    "* Detractor: Clientes que expressaram insatisfação ou descontentamento significativo com a companhia aérea;\n",
    "* Promoter: Clientes extremamente satisfeitos e leais à companhia aérea;\n",
    "* Passive: Clientes que não expressaram satisfação ou insatisfação com a companhia aérea."
   ]
  },
  {
   "cell_type": "markdown",
   "metadata": {},
   "source": [
    "___\n",
    "## Montando um Classificador Naive-Bayes\n",
    "\n",
    "Considerando apenas as mensagens da planilha Treinamento, ensine  seu classificador."
   ]
  },
  {
   "cell_type": "markdown",
   "metadata": {},
   "source": [
    "### Preparação dos dados"
   ]
  },
  {
   "cell_type": "markdown",
   "metadata": {},
   "source": [
    "#### Limpeza e filtragem da base de dados\n",
    "\n",
    "- Padronização dos dados: removendo letras maiúsculas, pontuações e acentos.\n",
    "- Filtragem dos dados: removendo stopwords e palavras com duas letras."
   ]
  },
  {
   "cell_type": "code",
   "execution_count": null,
   "metadata": {},
   "outputs": [],
   "source": [
    "# Função auxiliar que limpa um texto\n",
    "\n",
    "def cleanup(text):    \n",
    "    # Retira a pontuação\n",
    "    punctuation = '[´\"!-.:?;$''()]'\n",
    "    pattern = re.compile(punctuation)\n",
    "    \n",
    "    # Retira as stopwords (palavras indiferentes para o cálculo da probabilidade)\n",
    "    stopwords = ['the','to', 'and', 'was', 'i', 'a', 'in', 'on', 'of', 'with','for', 'flight', 'we']\n",
    "    words = r'\\b(?:' + '|'.join(map(re.escape, stopwords)) + r')\\b'\n",
    "    \n",
    "    # Retira palavras de duas letras\n",
    "    limpa_duas_letras = r'\\b\\w{1,2}\\b'\n",
    "    \n",
    "\n",
    "    # Aplica as alterações e retorna o texto limpo\n",
    "    text = re.sub(pattern, '', text)\n",
    "    text = re.sub(words, '', text, flags=re.IGNORECASE)\n",
    "    text = re.sub(limpa_duas_letras, '', text)\n",
    "\n",
    "    return text"
   ]
  },
  {
   "cell_type": "markdown",
   "metadata": {},
   "source": [
    "#### Gerando a base de dados | Contagem\n",
    "\n",
    "Aqui, serão obtidas as reviews já limpa. Em seguida, será obtido os dados de frequência das reviews"
   ]
  },
  {
   "cell_type": "code",
   "execution_count": null,
   "metadata": {},
   "outputs": [],
   "source": [
    "# Função auxiliar que recebe um dataframe, limpa e transforma em lista\n",
    "def transf_lista(dataframe):\n",
    "    texto = \" \"\n",
    "\n",
    "    for linha in dataframe['Review']:\n",
    "        texto += cleanup(linha)\n",
    "    \n",
    "    lista = texto.lower().split()\n",
    "    return lista"
   ]
  },
  {
   "cell_type": "code",
   "execution_count": null,
   "metadata": {
    "scrolled": true
   },
   "outputs": [],
   "source": [
    "# Função que recebe um dataframe e retorna as series de cada NPS e suas respectivas frequências (Será usado para obter dados de treinamento)\n",
    "\n",
    "def contagem(df):\n",
    "    # Gerando series\n",
    "    serie_df = pd.Series(transf_lista(df))\n",
    "    serie_Detractor = pd.Series(transf_lista(df.loc[(df.NPS == 'Detractor'), :]))\n",
    "    serie_Promoter = pd.Series(transf_lista(df.loc[(df.NPS == 'Promoter'), :]))\n",
    "    serie_Passive = pd.Series(transf_lista(df.loc[(df.NPS == 'Passive'), :]))\n",
    "\n",
    "    # Probabilidades por NPS\n",
    "    P_D = len(serie_Detractor)/len(serie_df)\n",
    "    P_Pr = len(serie_Promoter)/len(serie_df)\n",
    "    P_Pa = len(serie_Passive)/len(serie_df)\n",
    "\n",
    "    # Frequências (absolutas e relativas)\n",
    "    tabela_df = serie_df.value_counts()\n",
    "    tabela_Detractor = serie_Detractor.value_counts()\n",
    "    tabela_Promoter = serie_Promoter.value_counts()\n",
    "    tabela_Passive = serie_Passive.value_counts()\n",
    "    tabela_Detractor_relativo = serie_Detractor.value_counts(True)\n",
    "    tabela_Promoter_relativo = serie_Promoter.value_counts(True)\n",
    "    tabela_Passive_relativo = serie_Passive.value_counts(True)\n",
    "\n",
    "    # Return all variables\n",
    "    return locals()\n",
    "    \n",
    "    "
   ]
  },
  {
   "cell_type": "markdown",
   "metadata": {},
   "source": [
    "#### Classificador\n",
    "Foram definidas as funções que classificarão as reviews, seguindo o método de Naive-Bayes"
   ]
  },
  {
   "cell_type": "code",
   "execution_count": null,
   "metadata": {},
   "outputs": [],
   "source": [
    "# Função auxiliar que calcula a probabilidade de uma palavra estar em um NPS (classificação) específico\n",
    "\n",
    "# Recebe: palavra -> palavra que se deseja calcular a probabilidade;\n",
    "#         tab_NPS -> tabela de um NPS específico;\n",
    "#         len_serie_NPS -> quantidade de palavras totais (com repetição) em um NPS específico.\n",
    "\n",
    "def calc_prob(palavra, tab_NPS, len_serie_NPS, tabela_train):\n",
    "    prob = 1\n",
    "    # Se a palavra estiver na tabela do NPS específico\n",
    "    if palavra in tab_NPS:\n",
    "        prob = ((tab_NPS[palavra] + 1)/(len_serie_NPS + len(tabela_train)))*1e3\n",
    "        \n",
    "    # Se a palavra for inédita\n",
    "    else:   \n",
    "        prob = (1/(len_serie_NPS + len(tabela_train)))*1e3\n",
    "\n",
    "    return prob"
   ]
  },
  {
   "cell_type": "code",
   "execution_count": null,
   "metadata": {
    "scrolled": false
   },
   "outputs": [],
   "source": [
    "# Classifica a frase em detractor, promoter, passive\n",
    "\n",
    "def classificador(tabela_Detractor, tabela_Passive, tabela_Promoter, tabela_df, serie_Detractor, serie_Passive, serie_Promoter, df, P_NPS):\n",
    "    classif = []\n",
    "\n",
    "    # Probabilidades de cada NPS específico\n",
    "    P_D = P_NPS[0]\n",
    "    P_Pa = P_NPS[1]\n",
    "    P_Pr = P_NPS[2]\n",
    "\n",
    "    # Loop que percorre todos os reviews do dataFrame\n",
    "    for frase in df.Review:\n",
    "\n",
    "        #Limpar a frase\n",
    "        frase_limpa = cleanup(frase).lower().split()\n",
    "        \n",
    "        P_frase_dado_D = 1\n",
    "        P_frase_dado_Pa = 1 \n",
    "        P_frase_dado_Pr = 1\n",
    "\n",
    "        # For que percorre cada palavra das frases\n",
    "        for palavra in frase_limpa:\n",
    "\n",
    "            #Probabilidade da frase ser de cada NPS específico\n",
    "            P_frase_dado_D *= calc_prob(palavra, tabela_Detractor, len(serie_Detractor), tabela_df)\n",
    "            P_frase_dado_Pa *= calc_prob(palavra, tabela_Passive, len(serie_Passive), tabela_df)\n",
    "            P_frase_dado_Pr *= calc_prob(palavra, tabela_Promoter, len(serie_Promoter), tabela_df)\n",
    "\n",
    "        #Probabilidade de cada NPS específico para a frase\n",
    "        P_D_dado_frase = (P_frase_dado_D * P_D)\n",
    "        P_Pa_dado_frase = (P_frase_dado_Pa * P_Pa)\n",
    "        P_Pr_dado_frase = (P_frase_dado_Pr * P_Pr)\n",
    "\n",
    "        # Armazena as probabilidades, compara e adiciona a maior classif na lista \n",
    "        prob = [P_D_dado_frase, P_Pa_dado_frase, P_Pr_dado_frase]\n",
    "\n",
    "        if max(prob) == prob[0]:\n",
    "            classif.append(\"Detractor\")\n",
    "        elif max(prob) == prob[1]:\n",
    "            classif.append(\"Passive\")\n",
    "        elif max(prob) == prob[2]:\n",
    "            classif.append(\"Promoter\")\n",
    "        \n",
    "    return classif"
   ]
  },
  {
   "cell_type": "markdown",
   "metadata": {},
   "source": [
    "----\n",
    "### Treinamento\n"
   ]
  },
  {
   "cell_type": "markdown",
   "metadata": {},
   "source": [
    "Obtenção das frequências e probabilidades para cada NPS"
   ]
  },
  {
   "cell_type": "code",
   "execution_count": null,
   "metadata": {},
   "outputs": [],
   "source": [
    "# Dataframe\n",
    "train = pd.read_csv('dados_treino_QUARTETO_Thomas.csv')\n",
    "\n",
    "# Contagem\n",
    "dados = contagem(train)\n",
    "\n",
    "tabela_Detractor = dados['tabela_Detractor']\n",
    "tabela_Passive = dados['tabela_Passive']\n",
    "tabela_Promoter = dados['tabela_Promoter']\n",
    "tabela_train = dados['tabela_df']\n",
    "serie_Detractor = dados['serie_Detractor']\n",
    "serie_Promoter = dados['serie_Promoter']\n",
    "serie_Passive = dados['serie_Passive']\n",
    "P_NPS = [dados['P_D'], dados['P_Pa'], dados['P_Pr']]"
   ]
  },
  {
   "cell_type": "markdown",
   "metadata": {},
   "source": [
    "___\n",
    "### Testes"
   ]
  },
  {
   "cell_type": "markdown",
   "metadata": {},
   "source": [
    "#### Classificação"
   ]
  },
  {
   "cell_type": "code",
   "execution_count": null,
   "metadata": {},
   "outputs": [],
   "source": [
    "# Dataframe\n",
    "test = pd.read_csv('dados_teste_QUARTETO_Thomas.csv')\n",
    "\n",
    "# Classificação\n",
    "classificacao_teste = classificador(tabela_Detractor, tabela_Passive, tabela_Promoter, tabela_train, serie_Detractor, serie_Passive, serie_Promoter, test, P_NPS)"
   ]
  },
  {
   "cell_type": "markdown",
   "metadata": {},
   "source": [
    "#### Verificação os resultados\n",
    "Comparação do NPS com as classificações fornecidas pelo classificador"
   ]
  },
  {
   "cell_type": "code",
   "execution_count": null,
   "metadata": {},
   "outputs": [],
   "source": [
    "test['Boot'] = classificacao_teste\n",
    "\n",
    "# Assertividade\n",
    "acuracia_teste = len(test.loc[(test.NPS == test.Boot), :])/len(test)\n",
    "print(f'Acurácia: {acuracia_teste*100:.2f}%')\n",
    "\n",
    "# DF com os reviews classificados corretamente\n",
    "test.loc[(test.NPS == test.Boot), :]"
   ]
  },
  {
   "cell_type": "markdown",
   "metadata": {},
   "source": [
    "Crosstab (NPS x Boot)"
   ]
  },
  {
   "cell_type": "code",
   "execution_count": null,
   "metadata": {},
   "outputs": [],
   "source": [
    "pd.crosstab(test.NPS, test.Boot)"
   ]
  },
  {
   "cell_type": "markdown",
   "metadata": {},
   "source": [
    "Porcentagens"
   ]
  },
  {
   "cell_type": "code",
   "execution_count": null,
   "metadata": {},
   "outputs": [],
   "source": [
    "total_promoter = len(test.loc[test.NPS == 'Promoter', :])\n",
    "total_passive = len(test.loc[test.NPS == 'Passive', :])\n",
    "total_detractor = len(test.loc[test.NPS == 'Detractor', :])\n",
    "\n",
    "# Classificados corretamente\n",
    "certo_promoter = len(test.loc[(test.NPS == 'Promoter') & (test.Boot == 'Promoter'), :])\n",
    "certo_passive = len(test.loc[(test.NPS == 'Passive') & (test.Boot == 'Passive'), :])\n",
    "certo_detractor = len(test.loc[(test.NPS == 'Detractor') & (test.Boot == 'Detractor'), :])\n",
    "\n",
    "# Classificados incorretamente\n",
    "errado_promoter = 1 - certo_promoter/total_promoter\n",
    "errado_passive = 1 - certo_passive/total_passive\n",
    "errado_detractor = 1 - certo_detractor/total_detractor\n",
    "\n",
    "# Acurácia\n",
    "acuracia_test = len(test.loc[(test.NPS == test.Boot), :])/len(test)\n",
    "\n",
    "# Print\n",
    "print('Acurácia: {:.2f}%\\n'.format(acuracia_test*100))\n",
    "print(f'Promoter\\n Verdadeiros: {certo_promoter/total_promoter*100:.2f}%\\n Falsos: {errado_promoter*100:.2f}%\\n')\n",
    "print(f'Passive\\n Verdadeiros: {certo_passive/total_passive*100:.2f}%\\n Falsos: {errado_passive*100:.2f}%\\n')\n",
    "print(f'Detractor\\n Verdadeiros: {certo_detractor/total_detractor*100:.2f}%\\n Falsos: {errado_detractor*100:.2f}%\\n')"
   ]
  },
  {
   "cell_type": "markdown",
   "metadata": {},
   "source": [
    "___\n",
    "### Concluindo"
   ]
  },
  {
   "cell_type": "markdown",
   "metadata": {},
   "source": [
    "**1. Comparativo entre os percentuais:**\n",
    "\n",
    "O classificador tende a identificar corretamente reviews classificadas como \"Promoter\" e \"Detractor\". Entretanto, reviews referentes a classificação \"Passive\" possuem elevado índice de erro, com alta tendência a classificar como \"Promoter\".\n",
    "\n",
    "Tal análise pode ser observada por meio do crosstab abaixo:\n",
    "\n",
    "![crosstab](crosstab_analise_boot.png)\n",
    "\n",
    "\n",
    "**2. Dupla negação e sarcasmo:**\n",
    "\n",
    "Reviews com dupla negação, que nós humanos identificamos como algo positivo, o classificador identificará como duas vezes algo negativo, aumentando a probabilidade de ser classificada como \"Detractor\", quando provavelmente não é. Por ooutro lado, reviews com sarcasmo, que nós humanos identificamos como algo negativo, o classificador identificará como algo positivo, aumentando a probabilidade de ser classificada como \"Promoter\", quando provavelmente não é. \n",
    "\n",
    "Ou seja, duplas negações e frases sarcásticas aumentam as chances de classificação incorreta.\n",
    "\n",
    "**3. Plano de expansão:**\n",
    "\n",
    "O nosso projeto deve continuar sendo financiado pois a classificação das reviews dos clientes da companhia aérea auxilia positivamente a empresa, uma vez que eles conseguem identificar, por meio de dados concretos, se os clientes estão contentes ou não com os serviços oferecidos. Além disso, é possível identificar quais são os principais pontos de contentamento e descontentamento, os quais, somado a um plano de ação da empresa, possibilitará melhorias na companhia, buscando melhorar os serviços oferecidos e a experiência do usuário. \n",
    "\n",
    "Além disso, caso a companhia desejasse enviar reviews positivas e negativas para setores distintos, o classificador removeria a necessidade de que um funcionário lesse cada review e a classificasse, poupando tempo e recursos financeiros da empresa, uma vez que um classificador faria automaticamente tal divisão. \n",
    "\n",
    "**4. Diferentes cenários para Naïve Bayes fora do contexto do projeto:**\n",
    "\n",
    "* Detectar Fake News;\n",
    "\n",
    "* Detectar mensagens ofensivas/ inapropriadas para, possivelmente, retirar da internet;\n",
    "\n",
    "**5. Possíveis melhorias para o projeto:**\n",
    "\n",
    "* Aplicar os métodos stemming e lemmatization na limpeza das frases.\n",
    "\n",
    "    * Stemming: Analisa cada palavra individualmente e a reduz para o seu radical (não será necessariamente gramaticamente correta);\n",
    "\n",
    "    * Lemmatization: Analisa cada palavra individualmente e a reduz para o seu radical (será necessariamente gramaticamente correta);\n",
    "\n",
    "    * Ambos os métodos podem melhorar a nossa ánalise ao juntar palavras difernetes mas com o radical semelhante, alterando a probabilidade final e, portanto, a classificação final (material de pesquisa em \"Referências\").\n",
    "\n",
    "* Aplicar metodos de redes neurais, para podermos considerar a semantica e ordem das palavras, com o intuito de aumentar a assertividade do código.\n"
   ]
  },
  {
   "cell_type": "markdown",
   "metadata": {},
   "source": [
    "___\n",
    "### Qualidade do Classificador a partir de novas separações das mensagens entre Treinamento e Teste\n",
    "Nessa parte, a divisão da base de dados original será refeita em 100 diferentes seeds. O objetivo é entender se a distribução da base de dados afeta (significativamente) a acurácia do classificador."
   ]
  },
  {
   "cell_type": "code",
   "execution_count": 34,
   "metadata": {},
   "outputs": [],
   "source": [
    "# Biblioteca necessária para dividir o dataframe em treino e teste\n",
    "from sklearn.model_selection import train_test_split"
   ]
  },
  {
   "cell_type": "code",
   "execution_count": null,
   "metadata": {},
   "outputs": [],
   "source": [
    "# Reintegrando os dataframes em um só\n",
    "dados = pd.concat([train, test]).drop(columns=['Boot'])\n",
    "\n",
    "# Lista de acurácias\n",
    "acuracias = []\n",
    "\n",
    "# Loop para testar diferentes seeds\n",
    "for i in range(100):\n",
    "    # Obtendo os dados de treino e teste\n",
    "    X_train, X_test, y_train, y_test = train_test_split(dados.Review, dados.NPS, test_size=0.3, random_state=i)\n",
    "    dados_treino = pd.concat([X_train, y_train], axis=1)\n",
    "    dados_teste = pd.concat([X_test, y_test], axis=1)\n",
    "\n",
    "    # Contagem dos dados de treino\n",
    "    dados_treino = contagem(dados_treino)\n",
    "    tabela_Detractor = dados_treino['tabela_Detractor']\n",
    "    tabela_Passive = dados_treino['tabela_Passive']\n",
    "    tabela_Promoter = dados_treino['tabela_Promoter']\n",
    "    tabela_train = dados_treino['tabela_df']\n",
    "    serie_Detractor = dados_treino['serie_Detractor']\n",
    "    serie_Promoter = dados_treino['serie_Promoter']\n",
    "    serie_Passive = dados_treino['serie_Passive']\n",
    "    P_NPS = [dados_treino['P_D'], dados_treino['P_Pa'], dados_treino['P_Pr']]\n",
    "\n",
    "    # Classificação\n",
    "    classificacao_teste = classificador(tabela_Detractor, tabela_Passive, tabela_Promoter, tabela_train, serie_Detractor, serie_Passive, serie_Promoter, dados_teste, P_NPS)\n",
    "    dados_teste['Boot'] = classificacao_teste\n",
    "\n",
    "    # Acurácia\n",
    "    acuracia_teste = len(dados_teste.loc[(dados_teste.NPS == dados_teste.Boot), :])/len(dados_teste)\n",
    "    acuracias.append(acuracia_teste)"
   ]
  },
  {
   "cell_type": "code",
   "execution_count": 33,
   "metadata": {},
   "outputs": [
    {
     "data": {
      "image/png": "[encoded data removed]",
      "text/plain": [
       "<Figure size 640x480 with 1 Axes>"
      ]
     },
     "metadata": {},
     "output_type": "display_data"
    }
   ],
   "source": [
    "# Histograma\n",
    "acuracias_porcentagem = [acuracia * 100 for acuracia in acuracias]\n",
    "plt.hist(acuracias_porcentagem, bins=20, edgecolor='k', density=False)\n",
    "\n",
    "plt.title('Acurácias')\n",
    "plt.xlabel('Acurácia (%)')\n",
    "plt.ylabel('Frequência')\n",
    "plt.show()"
   ]
  },
  {
   "cell_type": "markdown",
   "metadata": {},
   "source": [
    "#### Conclusão\n",
    "Como é possível observar no histograma, alterar a base de dados **não afeta significativamente** a eficácia do classificador, apresentando uma variação máxima de +/- 2% em relação ao primeiro teste. Isso ocorre porque o classificador é feito com o intuito de **generalizar as informações** apresentadas, e **não memorizar** casos específicos. Dessa forma, variações na organização dos dados, que seguem um mesmo padrão, não afetam significativamente a performance do programa."
   ]
  },
  {
   "cell_type": "markdown",
   "metadata": {},
   "source": [
    "___\n",
    "## Aperfeiçoamento:\n",
    "\n",
    "Trabalhos que conseguirem pelo menos conceito B vão evoluir em conceito dependendo da quantidade de itens avançados:\n",
    "\n",
    "* OK IMPLEMENTOU outras limpezas e transformações que não afetem a qualidade da informação contida nas mensagens. Ex: stemming, lemmatization, stopwords\n",
    "* OK CONSIDEROU arquivo com três categorias na classificação das variáveis (OBRIGATÓRIO PARA QUARTETOS, sem contar como item avançado)\n",
    "* OK CONSTRUIU o cálculo das probabilidades corretamente utilizando bigramas E apresentou referência sobre o método utilizado.\n",
    "* EXPLICOU porquê não pode usar o próprio classificador para gerar mais amostras de treinamento\n",
    "* OK PROPÔS diferentes cenários para Naïve Bayes fora do contexto do projeto (pelo menos dois cenários diferentes, exceto aqueles já apresentados em sala pelos professores: por exemplo, filtro de spam)\n",
    "* OK SUGERIU e EXPLICOU melhorias reais com indicações concretas de como implementar (indicar como fazer e indicar material de pesquisa)\n",
    "* FEZ o item Qualidade do Classificador a partir de novas separações das mensagens entre Treinamento e Teste descrito no enunciado do projeto (OBRIGATÓRIO para conceitos A ou A+)\n"
   ]
  },
  {
   "cell_type": "markdown",
   "metadata": {},
   "source": [
    "___\n",
    "## Itens avançados:"
   ]
  },
  {
   "cell_type": "markdown",
   "metadata": {},
   "source": [
    "1) Porque não pode usar o próprio classificador para gerar mais amostras de treinamento?\n",
    "* Não podemos usar o proprio classificador para gerar mais amostras de treinamento, pois o classificador já foi treinado com esses dados.\n",
    "2) Diferentes cenários para Naïve Bayes fora do contexto do projeto:\n",
    "* Detectar Fake News;\n",
    "* Detectar mensagens ofensivas/ inapropriadas para, possivelmente, retirar da internet;\n",
    "3) Possíveis melhorias para o projeto:\n",
    "* Aplicar os métodos stemming e lemmatization na limpeza das frases.\n",
    "Stemming: Analisa cada palavra individualmente e a reduz para o seu radical (não será necessariamente gramaticamente correta);\n",
    "Lemmatization: Analisa cada palavra individualmente e a reduz para o seu radical (será necessariamente gramaticamente correta);\n",
    "Ambos os métodos podem melhorar a nossa ánalise ao juntar palavras difernetes mas com o radical semelhante, alterando a probabilidade final e, portanto, a classificação final.\n",
    "Material de pesquisa em \"Referências\"\n",
    "\n",
    "* Aplicar metodos de redes neurais, para podermos considerar a semantica e ordem das palavras, com o intuito de aumentar a assertividade do código.\n",
    " "
   ]
  },
  {
   "cell_type": "markdown",
   "metadata": {},
   "source": [
    "___\n",
    "## Referências"
   ]
  },
  {
   "cell_type": "markdown",
   "metadata": {},
   "source": [
    "[Naive Bayes and Text Classification](https://arxiv.org/pdf/1410.5329.pdf)  **Mais completo**\n",
    "\n",
    "[A practical explanation of a Naive Bayes Classifier](https://monkeylearn.com/blog/practical-explanation-naive-bayes-classifier/) **Mais simples**\n",
    "\n",
    "[Lemmatization vs. stemming: quando usar cada uma?](https://www.alura.com.br/artigos/lemmatization-vs-stemming-quando-usar-cada-uma) **Diferenças entre Lemmatization e stemming, e como aplicar cada uma**\n",
    "\n",
    "[Como uma rede neural Aprende?](https://youtu.be/mWD8wWwZpi8?si=sxqbkwEUJLPiLUMs) **Utilização de redes neurais para melhorar a assertividade do codigo.**\n"
   ]
  },
  {
   "cell_type": "code",
   "execution_count": null,
   "metadata": {},
   "outputs": [],
   "source": [
    "# O modelo probabilistico para o calculo e classificação de texto, se baseia na probabilidade de uma palavra estar em um NPS específico. Fizemos o uso do metodo de Naive Bayes para calcular a probabilidade de uma palavra estar em um NPS específico. Com o intuito de minimizar os erros e maximizar a porcentagem de acertividade, aplicamos a suavização de Laplace dentro do código "
   ]
  }
 ],
 "metadata": {
  "kernelspec": {
   "display_name": "Python 3 (ipykernel)",
   "language": "python",
   "name": "python3"
  },
  "language_info": {
   "codemirror_mode": {
    "name": "ipython",
    "version": 3
   },
   "file_extension": ".py",
   "mimetype": "text/x-python",
   "name": "python",
   "nbconvert_exporter": "python",
   "pygments_lexer": "ipython3",
   "version": "3.12.2"
  }
 },
 "nbformat": 4,
 "nbformat_minor": 4
}
