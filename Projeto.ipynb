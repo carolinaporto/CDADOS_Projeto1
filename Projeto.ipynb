{
 "cells": [
  {
   "cell_type": "markdown",
   "metadata": {},
   "source": [
    "# Projeto 1 - Ciência dos Dados"
   ]
  },
  {
   "cell_type": "markdown",
   "metadata": {},
   "source": [
    "Nome: Maria Carolina Porto \n",
    "\n",
    "Nome: Thomas Kassabian\n",
    "\n",
    "Nome: Kaique Tinto\n",
    "\n",
    "Nome: Eduardo Candeias"
   ]
  },
  {
   "cell_type": "markdown",
   "metadata": {},
   "source": [
    "___\n",
    "Carregando algumas bibliotecas:"
   ]
  },
  {
   "cell_type": "code",
   "execution_count": 1,
   "metadata": {},
   "outputs": [],
   "source": [
    "%matplotlib inline\n",
    "import pandas as pd\n",
    "import matplotlib.pyplot as plt\n",
    "import numpy as np\n",
    "import os\n",
    "import re"
   ]
  },
  {
   "cell_type": "markdown",
   "metadata": {},
   "source": [
    "___\n",
    "## Classificador automático\n"
   ]
  },
  {
   "cell_type": "markdown",
   "metadata": {},
   "source": [
    "Esse classificador tem por objetivo ensinar um Boot a classificar corretamente os reviews de clientes de uma companhia aérea. Para isso, utilizamos um dataFrame \"Train\" para treiná-lo, e um dataFrame distinto \"Test\" para testá-lo.\n",
    "\n",
    "As possíveis classificações são:\n",
    "* Detractor: Clientes que expressaram insatisfação ou descontentamento significativo com a companhia aérea;\n",
    "* Promoter: Clientes extremamente satisfeitos e leais à companhia aérea;\n",
    "* Passive: Clientes que não expressaram satisfação ou insatisfação com a companhia aérea."
   ]
  },
  {
   "cell_type": "markdown",
   "metadata": {},
   "source": [
    "___\n",
    "## Montando um Classificador Naive-Bayes\n",
    "\n",
    "Considerando apenas as mensagens da planilha Treinamento, ensine  seu classificador."
   ]
  },
  {
   "cell_type": "markdown",
   "metadata": {},
   "source": [
    "### Preparação dos dados"
   ]
  },
  {
   "cell_type": "markdown",
   "metadata": {},
   "source": [
    "#### Limpeza e filtragem da base de dados\n",
    "\n",
    "- Padronização dos dados: removendo letras maiúsculas, pontuações e acentos.\n",
    "- Filtragem dos dados: removendo stopwords e palavras com duas letras."
   ]
  },
  {
   "cell_type": "code",
   "execution_count": 62,
   "metadata": {},
   "outputs": [],
   "source": [
    "# Função auxiliar que limpa um texto\n",
    "\n",
    "def cleanup(text):    \n",
    "    # Retira a pontuação\n",
    "    punctuation = '[´\"!-.:?;$()]'\n",
    "    pattern = re.compile(punctuation)\n",
    "    \n",
    "    # Retira as stopwords (palavras indiferentes para o cálculo da probabilidade)\n",
    "    stopwords = [\n",
    "    # Stopwords comuns\n",
    "    \"a\", \"an\", \"the\", \"and\", \"but\", \"or\", \"because\", \"so\", \"of\", \"with\", \"at\", \"from\", \n",
    "    \"into\", \"during\", \"including\", \"until\", \"against\", \"among\", \"through\", \"to\", \"in\", \n",
    "    \"for\", \"on\", \"by\", \"about\", \"as\", \"up\", \"out\", \"if\", \"is\", \"it\", \"this\", \"that\", \n",
    "    \"these\", \"those\", \"there\", \"where\", \"when\", \"which\", \"how\", \"all\", \"any\", \"both\", \n",
    "    \"each\", \"few\", \"more\", \"most\", \"other\", \"some\", \"such\", \"no\", \"nor\", \"not\", \"only\", \n",
    "    \"own\", \"same\", \"so\", \"than\", \"too\", \"very\", \"can\", \"will\", \"just\", \"should\", \"now\",\n",
    "    \n",
    "    # Stopwords específicas para reviews de companhias aéreas\n",
    "    \"flight\", \"airline\", \"seat\", \"gate\", \"boarding\", \"baggage\", \"luggage\", \"crew\", \n",
    "    \"attendant\", \"pilot\", \"airport\", \"ticket\", \"reservation\", \"class\", \"economy\", \n",
    "    \"business\", \"first class\", \"delay\", \"cancelled\", \"onboard\", \"departure\", \"arrival\", \n",
    "    \"destination\", \"layover\", \"connecting\", \"connection\", \"miles\", \"frequent flyer\", \n",
    "    \"upgrade\", \"window\", \"aisle\", \"overhead\", \"check-in\", \"carry-on\", \"terminal\", \n",
    "    \"ground staff\", \"lounge\", \"entertainment\", \"meal\", \"beverage\", \"snack\", \"legroom\"\n",
    "]\n",
    "\n",
    "    words = r'\\b(?:' + '|'.join(map(re.escape, stopwords)) + r')\\b'\n",
    "    \n",
    "    # Retira palavras de duas letras\n",
    "    limpa_duas_letras = r'\\b\\w{1,2}\\b'\n",
    "    \n",
    "\n",
    "    # Aplica as alterações e retorna o texto limpo\n",
    "    text = re.sub(pattern, '', text)\n",
    "    text = re.sub(words, '', text, flags=re.IGNORECASE)\n",
    "    text = re.sub(limpa_duas_letras, '', text)\n",
    "\n",
    "    return text"
   ]
  },
  {
   "cell_type": "markdown",
   "metadata": {},
   "source": [
    "#### Gerando a base de dados | Contagem\n",
    "\n",
    "Aqui, serão obtidas as reviews já limpa. Em seguida, será obtido os dados de frequência das reviews"
   ]
  },
  {
   "cell_type": "code",
   "execution_count": 63,
   "metadata": {},
   "outputs": [],
   "source": [
    "# Função auxiliar que recebe um dataframe, limpa e transforma em lista\n",
    "def transf_lista(dataframe):\n",
    "    texto = \" \"\n",
    "\n",
    "    for linha in dataframe['Review']:\n",
    "        texto += cleanup(linha)\n",
    "    \n",
    "    lista = texto.lower().split()\n",
    "    return lista"
   ]
  },
  {
   "cell_type": "code",
   "execution_count": 64,
   "metadata": {
    "scrolled": true
   },
   "outputs": [],
   "source": [
    "# Função que recebe um dataframe e retorna as series de cada NPS e suas respectivas frequências (Será usado para obter dados de treinamento)\n",
    "\n",
    "def contagem(df):\n",
    "    # Gerando series\n",
    "    serie_df = pd.Series(transf_lista(df))\n",
    "    serie_Detractor = pd.Series(transf_lista(df.loc[(df.NPS == 'Detractor'), :]))\n",
    "    serie_Promoter = pd.Series(transf_lista(df.loc[(df.NPS == 'Promoter'), :]))\n",
    "    serie_Passive = pd.Series(transf_lista(df.loc[(df.NPS == 'Passive'), :]))\n",
    "\n",
    "    # Probabilidades por NPS\n",
    "    P_D = len(serie_Detractor)/len(serie_df)\n",
    "    P_Pr = len(serie_Promoter)/len(serie_df)\n",
    "    P_Pa = len(serie_Passive)/len(serie_df)\n",
    "\n",
    "    # Frequências (absolutas e relativas)\n",
    "    tabela_df = serie_df.value_counts()\n",
    "    tabela_Detractor = serie_Detractor.value_counts()\n",
    "    tabela_Promoter = serie_Promoter.value_counts()\n",
    "    tabela_Passive = serie_Passive.value_counts()\n",
    "    tabela_Detractor_relativo = serie_Detractor.value_counts(True)\n",
    "    tabela_Promoter_relativo = serie_Promoter.value_counts(True)\n",
    "    tabela_Passive_relativo = serie_Passive.value_counts(True)\n",
    "\n",
    "    # Return all variables\n",
    "    return locals()\n",
    "    \n",
    "    "
   ]
  },
  {
   "cell_type": "markdown",
   "metadata": {},
   "source": [
    "#### Classificador\n",
    "Foram definidas as funções que classificarão as reviews, seguindo o método de Naive-Bayes"
   ]
  },
  {
   "cell_type": "code",
   "execution_count": 65,
   "metadata": {},
   "outputs": [],
   "source": [
    "# Função auxiliar que calcula a probabilidade de uma palavra estar em um NPS (classificação) específico\n",
    "\n",
    "# Recebe: palavra -> palavra que se deseja calcular a probabilidade;\n",
    "#         tab_NPS -> tabela de um NPS específico;\n",
    "#         len_serie_NPS -> quantidade de palavras totais (com repetição) em um NPS específico.\n",
    "\n",
    "def calc_prob(palavra, tab_NPS, len_serie_NPS, tabela_train):\n",
    "    prob = 1\n",
    "    # Se a palavra estiver na tabela do NPS específico\n",
    "    if palavra in tab_NPS:\n",
    "        prob = ((tab_NPS[palavra] + 1)/(len_serie_NPS + len(tabela_train)))*1e3\n",
    "        \n",
    "    # Se a palavra for inédita\n",
    "    else:   \n",
    "        prob = (1/(len_serie_NPS + len(tabela_train)))*1e3\n",
    "\n",
    "    return prob"
   ]
  },
  {
   "cell_type": "code",
   "execution_count": 66,
   "metadata": {
    "scrolled": false
   },
   "outputs": [],
   "source": [
    "# Classifica a frase em detractor, promoter, passive\n",
    "\n",
    "def classificador(tabela_Detractor, tabela_Passive, tabela_Promoter, tabela_df, serie_Detractor, serie_Passive, serie_Promoter, df, P_NPS):\n",
    "    classif = []\n",
    "    probs = []\n",
    "\n",
    "    # Probabilidades de cada NPS específico\n",
    "    P_D = P_NPS[0]\n",
    "    P_Pa = P_NPS[1]\n",
    "    P_Pr = P_NPS[2]\n",
    "\n",
    "    # Loop que percorre todos os reviews do dataFrame\n",
    "    for frase in df.Review:\n",
    "\n",
    "        #Limpar a frase\n",
    "        frase_limpa = cleanup(frase).lower().split()\n",
    "        \n",
    "        P_frase_dado_D = 1\n",
    "        P_frase_dado_Pa = 1 \n",
    "        P_frase_dado_Pr = 1\n",
    "\n",
    "        # For que percorre cada palavra das frases\n",
    "        for palavra in frase_limpa:\n",
    "            \n",
    "            #Probabilidade da frase ser de cada NPS específico\n",
    "            P_frase_dado_D *= calc_prob(palavra, tabela_Detractor, len(serie_Detractor), tabela_df)\n",
    "            P_frase_dado_Pa *= calc_prob(palavra, tabela_Passive, len(serie_Passive), tabela_df)\n",
    "            P_frase_dado_Pr *= calc_prob(palavra, tabela_Promoter, len(serie_Promoter), tabela_df)\n",
    "\n",
    "        #Probabilidade de cada NPS específico para a frase\n",
    "        P_D_dado_frase = (P_frase_dado_D * P_D)\n",
    "        P_Pa_dado_frase = (P_frase_dado_Pa * P_Pa)\n",
    "        P_Pr_dado_frase = (P_frase_dado_Pr * P_Pr)\n",
    "\n",
    "        # Armazena as probabilidades, compara e adiciona a maior classif na lista \n",
    "        prob = [P_D_dado_frase, P_Pa_dado_frase, P_Pr_dado_frase]\n",
    "        probs.append(prob)\n",
    "\n",
    "        if max(prob) == prob[0]:\n",
    "            classif.append(\"Detractor\")\n",
    "        elif max(prob) == prob[1]:\n",
    "            classif.append(\"Passive\")\n",
    "        elif max(prob) == prob[2]:\n",
    "            classif.append(\"Promoter\")\n",
    "        \n",
    "    return classif,probs"
   ]
  },
  {
   "cell_type": "markdown",
   "metadata": {},
   "source": [
    "----\n",
    "### Treinamento\n"
   ]
  },
  {
   "cell_type": "markdown",
   "metadata": {},
   "source": [
    "Obtenção das frequências e probabilidades para cada NPS"
   ]
  },
  {
   "cell_type": "code",
   "execution_count": 67,
   "metadata": {},
   "outputs": [],
   "source": [
    "# Dataframe\n",
    "train = pd.read_csv('dados_treino_QUARTETO_Thomas.csv')\n",
    "\n",
    "# Contagem\n",
    "dados = contagem(train)\n",
    "\n",
    "tabela_Detractor = dados['tabela_Detractor']\n",
    "tabela_Passive = dados['tabela_Passive']\n",
    "tabela_Promoter = dados['tabela_Promoter']\n",
    "tabela_train = dados['tabela_df']\n",
    "serie_Detractor = dados['serie_Detractor']\n",
    "serie_Promoter = dados['serie_Promoter']\n",
    "serie_Passive = dados['serie_Passive']\n",
    "P_NPS = [dados['P_D'], dados['P_Pa'], dados['P_Pr']]"
   ]
  },
  {
   "cell_type": "markdown",
   "metadata": {},
   "source": [
    "___\n",
    "### Testes"
   ]
  },
  {
   "cell_type": "markdown",
   "metadata": {},
   "source": [
    "#### Classificação"
   ]
  },
  {
   "cell_type": "code",
   "execution_count": 68,
   "metadata": {},
   "outputs": [
    {
     "data": {
      "text/html": [
       "<div>\n",
       "<style scoped>\n",
       "    .dataframe tbody tr th:only-of-type {\n",
       "        vertical-align: middle;\n",
       "    }\n",
       "\n",
       "    .dataframe tbody tr th {\n",
       "        vertical-align: top;\n",
       "    }\n",
       "\n",
       "    .dataframe thead th {\n",
       "        text-align: right;\n",
       "    }\n",
       "</style>\n",
       "<table border=\"1\" class=\"dataframe\">\n",
       "  <thead>\n",
       "    <tr style=\"text-align: right;\">\n",
       "      <th></th>\n",
       "      <th>Detractor</th>\n",
       "      <th>Passive</th>\n",
       "      <th>Promoter</th>\n",
       "    </tr>\n",
       "  </thead>\n",
       "  <tbody>\n",
       "    <tr>\n",
       "      <th>0</th>\n",
       "      <td>1.788492e-47</td>\n",
       "      <td>3.354040e-33</td>\n",
       "      <td>3.885178e-34</td>\n",
       "    </tr>\n",
       "    <tr>\n",
       "      <th>1</th>\n",
       "      <td>4.470063e-54</td>\n",
       "      <td>1.862248e-82</td>\n",
       "      <td>2.461301e-89</td>\n",
       "    </tr>\n",
       "    <tr>\n",
       "      <th>2</th>\n",
       "      <td>3.263210e-12</td>\n",
       "      <td>2.040660e-18</td>\n",
       "      <td>1.158465e-19</td>\n",
       "    </tr>\n",
       "    <tr>\n",
       "      <th>3</th>\n",
       "      <td>6.024062e-18</td>\n",
       "      <td>1.379223e-28</td>\n",
       "      <td>6.990729e-27</td>\n",
       "    </tr>\n",
       "    <tr>\n",
       "      <th>4</th>\n",
       "      <td>5.235355e-59</td>\n",
       "      <td>5.055905e-69</td>\n",
       "      <td>1.545984e-73</td>\n",
       "    </tr>\n",
       "    <tr>\n",
       "      <th>...</th>\n",
       "      <td>...</td>\n",
       "      <td>...</td>\n",
       "      <td>...</td>\n",
       "    </tr>\n",
       "    <tr>\n",
       "      <th>1795</th>\n",
       "      <td>1.064523e-06</td>\n",
       "      <td>7.149363e-11</td>\n",
       "      <td>4.155268e-06</td>\n",
       "    </tr>\n",
       "    <tr>\n",
       "      <th>1796</th>\n",
       "      <td>4.500526e-09</td>\n",
       "      <td>5.877277e-07</td>\n",
       "      <td>2.109967e-06</td>\n",
       "    </tr>\n",
       "    <tr>\n",
       "      <th>1797</th>\n",
       "      <td>1.631114e-09</td>\n",
       "      <td>8.341324e-16</td>\n",
       "      <td>1.551216e-12</td>\n",
       "    </tr>\n",
       "    <tr>\n",
       "      <th>1798</th>\n",
       "      <td>5.026120e-16</td>\n",
       "      <td>1.581522e-13</td>\n",
       "      <td>4.303392e-11</td>\n",
       "    </tr>\n",
       "    <tr>\n",
       "      <th>1799</th>\n",
       "      <td>6.760686e-19</td>\n",
       "      <td>2.870316e-14</td>\n",
       "      <td>2.641498e-12</td>\n",
       "    </tr>\n",
       "  </tbody>\n",
       "</table>\n",
       "<p>1800 rows × 3 columns</p>\n",
       "</div>"
      ],
      "text/plain": [
       "         Detractor       Passive      Promoter\n",
       "0     1.788492e-47  3.354040e-33  3.885178e-34\n",
       "1     4.470063e-54  1.862248e-82  2.461301e-89\n",
       "2     3.263210e-12  2.040660e-18  1.158465e-19\n",
       "3     6.024062e-18  1.379223e-28  6.990729e-27\n",
       "4     5.235355e-59  5.055905e-69  1.545984e-73\n",
       "...            ...           ...           ...\n",
       "1795  1.064523e-06  7.149363e-11  4.155268e-06\n",
       "1796  4.500526e-09  5.877277e-07  2.109967e-06\n",
       "1797  1.631114e-09  8.341324e-16  1.551216e-12\n",
       "1798  5.026120e-16  1.581522e-13  4.303392e-11\n",
       "1799  6.760686e-19  2.870316e-14  2.641498e-12\n",
       "\n",
       "[1800 rows x 3 columns]"
      ]
     },
     "execution_count": 68,
     "metadata": {},
     "output_type": "execute_result"
    }
   ],
   "source": [
    "import pandas as pd\n",
    "# Dataframe\n",
    "test = pd.read_csv('dados_teste_QUARTETO_Thomas.csv')\n",
    "\n",
    "# Classificação\n",
    "\n",
    "x = classificador(tabela_Detractor, tabela_Passive, tabela_Promoter, tabela_train, serie_Detractor, serie_Passive, serie_Promoter, test, P_NPS)\n",
    "classificacao_teste = x[0]\n",
    "probabilidades = x[1]\n",
    "\n",
    "probabilidades\n",
    "df_probabilidades = pd.DataFrame(probabilidades, columns=['Detractor', 'Passive', 'Promoter'])\n",
    "df_probabilidades\n",
    "\n"
   ]
  },
  {
   "cell_type": "markdown",
   "metadata": {},
   "source": [
    "#### Verificação os resultados\n",
    "Comparação do NPS com as classificações fornecidas pelo classificador"
   ]
  },
  {
   "cell_type": "code",
   "execution_count": 69,
   "metadata": {},
   "outputs": [
    {
     "name": "stdout",
     "output_type": "stream",
     "text": [
      "Acurácia: 75.06%\n"
     ]
    },
    {
     "data": {
      "text/html": [
       "<div>\n",
       "<style scoped>\n",
       "    .dataframe tbody tr th:only-of-type {\n",
       "        vertical-align: middle;\n",
       "    }\n",
       "\n",
       "    .dataframe tbody tr th {\n",
       "        vertical-align: top;\n",
       "    }\n",
       "\n",
       "    .dataframe thead th {\n",
       "        text-align: right;\n",
       "    }\n",
       "</style>\n",
       "<table border=\"1\" class=\"dataframe\">\n",
       "  <thead>\n",
       "    <tr style=\"text-align: right;\">\n",
       "      <th></th>\n",
       "      <th>Review</th>\n",
       "      <th>NPS</th>\n",
       "      <th>Boot</th>\n",
       "    </tr>\n",
       "  </thead>\n",
       "  <tbody>\n",
       "    <tr>\n",
       "      <th>0</th>\n",
       "      <td>Melbourne to Singapore on a Singapore Airlines...</td>\n",
       "      <td>Promoter</td>\n",
       "      <td>Passive</td>\n",
       "    </tr>\n",
       "    <tr>\n",
       "      <th>17</th>\n",
       "      <td>21/6/14 EK354 DXB-SIN. Boarding not by zones t...</td>\n",
       "      <td>Promoter</td>\n",
       "      <td>Passive</td>\n",
       "    </tr>\n",
       "    <tr>\n",
       "      <th>26</th>\n",
       "      <td>6 flights in July. Auckland - Singapore SGN-BK...</td>\n",
       "      <td>Passive</td>\n",
       "      <td>Passive</td>\n",
       "    </tr>\n",
       "    <tr>\n",
       "      <th>28</th>\n",
       "      <td>I flew with Air Europa from Madrid to Caracas ...</td>\n",
       "      <td>Detractor</td>\n",
       "      <td>Passive</td>\n",
       "    </tr>\n",
       "    <tr>\n",
       "      <th>40</th>\n",
       "      <td>Larnaca to Cairo with Egyptair. Small Embraer ...</td>\n",
       "      <td>Detractor</td>\n",
       "      <td>Passive</td>\n",
       "    </tr>\n",
       "    <tr>\n",
       "      <th>...</th>\n",
       "      <td>...</td>\n",
       "      <td>...</td>\n",
       "      <td>...</td>\n",
       "    </tr>\n",
       "    <tr>\n",
       "      <th>1716</th>\n",
       "      <td>Bahrain to Cebu via Hong Kong in business cl...</td>\n",
       "      <td>Passive</td>\n",
       "      <td>Passive</td>\n",
       "    </tr>\n",
       "    <tr>\n",
       "      <th>1725</th>\n",
       "      <td>Rome to Calgary via Amsterdam. The flight and...</td>\n",
       "      <td>Detractor</td>\n",
       "      <td>Passive</td>\n",
       "    </tr>\n",
       "    <tr>\n",
       "      <th>1733</th>\n",
       "      <td>Stockholm to Helsinki. When you hear low cos...</td>\n",
       "      <td>Promoter</td>\n",
       "      <td>Passive</td>\n",
       "    </tr>\n",
       "    <tr>\n",
       "      <th>1737</th>\n",
       "      <td>Flew Egyptair from Toronto to Cairo. Crew we...</td>\n",
       "      <td>Detractor</td>\n",
       "      <td>Passive</td>\n",
       "    </tr>\n",
       "    <tr>\n",
       "      <th>1746</th>\n",
       "      <td>Sydney-KUL economy class. Seamless online chec...</td>\n",
       "      <td>Promoter</td>\n",
       "      <td>Passive</td>\n",
       "    </tr>\n",
       "  </tbody>\n",
       "</table>\n",
       "<p>148 rows × 3 columns</p>\n",
       "</div>"
      ],
      "text/plain": [
       "                                                 Review        NPS     Boot\n",
       "0     Melbourne to Singapore on a Singapore Airlines...   Promoter  Passive\n",
       "17    21/6/14 EK354 DXB-SIN. Boarding not by zones t...   Promoter  Passive\n",
       "26    6 flights in July. Auckland - Singapore SGN-BK...    Passive  Passive\n",
       "28    I flew with Air Europa from Madrid to Caracas ...  Detractor  Passive\n",
       "40    Larnaca to Cairo with Egyptair. Small Embraer ...  Detractor  Passive\n",
       "...                                                 ...        ...      ...\n",
       "1716    Bahrain to Cebu via Hong Kong in business cl...    Passive  Passive\n",
       "1725   Rome to Calgary via Amsterdam. The flight and...  Detractor  Passive\n",
       "1733    Stockholm to Helsinki. When you hear low cos...   Promoter  Passive\n",
       "1737    Flew Egyptair from Toronto to Cairo. Crew we...  Detractor  Passive\n",
       "1746  Sydney-KUL economy class. Seamless online chec...   Promoter  Passive\n",
       "\n",
       "[148 rows x 3 columns]"
      ]
     },
     "metadata": {},
     "output_type": "display_data"
    },
    {
     "data": {
      "text/plain": [
       "\"21/6/14 EK354 DXB-SIN. Boarding not by zones this time and some confusion occurred at the gate. Middle aged aircraft by EK's standards 4.4 years old well maintained interior but my seat pocket had a bit of uncleared rubbish. Full flight. IFE as usual very good with ICE being top notch. Too many things to watch and do. There's even a customer service survey under the C component. I didn't like that there were no drink runs done after take off not even a tray of drinks like what SQ and CX does. Due to this passengers kept pressing call buttons to ask for drinks. Snack service 1h15m after take off and drinks another 30m later. Breakfast was 3h before landing. Snack consisted of a roasted chicken sandwich and chocolate chip pecan cookies same as DXB-CDG. This time the sandwich was rock hard and the cookies weren't as good they were soft and weren't baked enough. Breakfast was really good with choices between omelette with creamed spinach (Same as DXB-CDG) and fried noodles with siewmai. I had the former. Omelette didn't taste like airplane stuff but was more bland this time creamed spinach bad this time. There were also fewer potato wedges and they were soggy. Fruits were fresh. I like that they provide croissants in addition to normal bread. Drinks service was really generous and there was no limit on the number of drinks both alcoholic and non alcoholic that you could take. Even during breakfast drink service you could ask for alcohol and no questions asked. Staff service was good on this flight. Smiles during service call buttons answered promptly and drink trays brought around twice after meal service for people who turn thirsty quickly like myself. I went to the galley to ask for my bottle to be refilled and they obliged. Landing was smoothest of 4 legs. After landing during disembarkation I requested to a cabin crew to allow me up to business and first class to have a look. She asked the chief stewardess and got a nod. She then enthusiastically showed me around the upper deck and I was amazed at how luxurious it was. I thanked her profusely after that. Good service from her. As usual EK is really good if you get a good crew. Only disappointment this flight was the food.\""
      ]
     },
     "metadata": {},
     "output_type": "display_data"
    }
   ],
   "source": [
    "test['Boot'] = classificacao_teste\n",
    "\n",
    "# Assertividade\n",
    "acuracia_teste = len(test.loc[(test.NPS == test.Boot), :])/len(test)\n",
    "print(f'Acurácia: {acuracia_teste*100:.2f}%')\n",
    "\n",
    "# DF com os reviews classificados corretamente\n",
    "display(test.loc[test.Boot == 'Passive', :])\n",
    "display(test.Review[17])\n"
   ]
  },
  {
   "cell_type": "markdown",
   "metadata": {},
   "source": [
    "Crosstab (NPS x Boot)"
   ]
  },
  {
   "cell_type": "code",
   "execution_count": 10,
   "metadata": {},
   "outputs": [
    {
     "data": {
      "text/html": [
       "<div>\n",
       "<style scoped>\n",
       "    .dataframe tbody tr th:only-of-type {\n",
       "        vertical-align: middle;\n",
       "    }\n",
       "\n",
       "    .dataframe tbody tr th {\n",
       "        vertical-align: top;\n",
       "    }\n",
       "\n",
       "    .dataframe thead th {\n",
       "        text-align: right;\n",
       "    }\n",
       "</style>\n",
       "<table border=\"1\" class=\"dataframe\">\n",
       "  <thead>\n",
       "    <tr style=\"text-align: right;\">\n",
       "      <th>Boot</th>\n",
       "      <th>Detractor</th>\n",
       "      <th>Passive</th>\n",
       "      <th>Promoter</th>\n",
       "    </tr>\n",
       "    <tr>\n",
       "      <th>NPS</th>\n",
       "      <th></th>\n",
       "      <th></th>\n",
       "      <th></th>\n",
       "    </tr>\n",
       "  </thead>\n",
       "  <tbody>\n",
       "    <tr>\n",
       "      <th>Detractor</th>\n",
       "      <td>729</td>\n",
       "      <td>78</td>\n",
       "      <td>43</td>\n",
       "    </tr>\n",
       "    <tr>\n",
       "      <th>Passive</th>\n",
       "      <td>79</td>\n",
       "      <td>46</td>\n",
       "      <td>145</td>\n",
       "    </tr>\n",
       "    <tr>\n",
       "      <th>Promoter</th>\n",
       "      <td>80</td>\n",
       "      <td>24</td>\n",
       "      <td>576</td>\n",
       "    </tr>\n",
       "  </tbody>\n",
       "</table>\n",
       "</div>"
      ],
      "text/plain": [
       "Boot       Detractor  Passive  Promoter\n",
       "NPS                                    \n",
       "Detractor        729       78        43\n",
       "Passive           79       46       145\n",
       "Promoter          80       24       576"
      ]
     },
     "execution_count": 10,
     "metadata": {},
     "output_type": "execute_result"
    }
   ],
   "source": [
    "pd.crosstab(test.NPS, test.Boot)"
   ]
  },
  {
   "cell_type": "markdown",
   "metadata": {},
   "source": [
    "Porcentagens"
   ]
  },
  {
   "cell_type": "code",
   "execution_count": 11,
   "metadata": {},
   "outputs": [
    {
     "name": "stdout",
     "output_type": "stream",
     "text": [
      "Acurácia: 75.06%\n",
      "\n",
      "Promoter\n",
      " Verdadeiros: 84.71%\n",
      " Falsos: 15.29%\n",
      "\n",
      "Passive\n",
      " Verdadeiros: 17.04%\n",
      " Falsos: 82.96%\n",
      "\n",
      "Detractor\n",
      " Verdadeiros: 85.76%\n",
      " Falsos: 14.24%\n",
      "\n"
     ]
    }
   ],
   "source": [
    "total_promoter = len(test.loc[test.NPS == 'Promoter', :])\n",
    "total_passive = len(test.loc[test.NPS == 'Passive', :])\n",
    "total_detractor = len(test.loc[test.NPS == 'Detractor', :])\n",
    "\n",
    "# Classificados corretamente\n",
    "certo_promoter = len(test.loc[(test.NPS == 'Promoter') & (test.Boot == 'Promoter'), :])\n",
    "certo_passive = len(test.loc[(test.NPS == 'Passive') & (test.Boot == 'Passive'), :])\n",
    "certo_detractor = len(test.loc[(test.NPS == 'Detractor') & (test.Boot == 'Detractor'), :])\n",
    "\n",
    "# Classificados incorretamente\n",
    "errado_promoter = 1 - certo_promoter/total_promoter\n",
    "errado_passive = 1 - certo_passive/total_passive\n",
    "errado_detractor = 1 - certo_detractor/total_detractor\n",
    "\n",
    "# Acurácia\n",
    "acuracia_test = len(test.loc[(test.NPS == test.Boot), :])/len(test)\n",
    "\n",
    "# Print\n",
    "print('Acurácia: {:.2f}%\\n'.format(acuracia_test*100))\n",
    "print(f'Promoter\\n Verdadeiros: {certo_promoter/total_promoter*100:.2f}%\\n Falsos: {errado_promoter*100:.2f}%\\n')\n",
    "print(f'Passive\\n Verdadeiros: {certo_passive/total_passive*100:.2f}%\\n Falsos: {errado_passive*100:.2f}%\\n')\n",
    "print(f'Detractor\\n Verdadeiros: {certo_detractor/total_detractor*100:.2f}%\\n Falsos: {errado_detractor*100:.2f}%\\n')"
   ]
  },
  {
   "cell_type": "markdown",
   "metadata": {},
   "source": [
    "___\n",
    "### Concluindo"
   ]
  },
  {
   "cell_type": "markdown",
   "metadata": {},
   "source": [
    "**1. Comparativo entre os percentuais:**\n",
    "\n",
    "O classificador tende a identificar corretamente reviews classificadas como \"Promoter\" e \"Detractor\". Entretanto, reviews referentes a classificação \"Passive\" possuem elevado índice de erro, com alta tendência a classificar como \"Promoter\".\n",
    "\n",
    "Tal análise pode ser observada por meio do crosstab abaixo:\n",
    "\n",
    "![crosstab](crosstab_analise_boot.png)\n",
    "\n",
    "\n",
    "**2. Dupla negação e sarcasmo:**\n",
    "\n",
    "Reviews com dupla negação, que nós humanos identificamos como algo positivo, o classificador identificará como duas vezes algo negativo, aumentando a probabilidade de ser classificada como \"Detractor\", quando provavelmente não é. Por ooutro lado, reviews com sarcasmo, que nós humanos identificamos como algo negativo, o classificador identificará como algo positivo, aumentando a probabilidade de ser classificada como \"Promoter\", quando provavelmente não é. \n",
    "\n",
    "Ou seja, duplas negações e frases sarcásticas aumentam as chances de classificação incorreta.\n",
    "\n",
    "**3. Plano de expansão:**\n",
    "\n",
    "O nosso projeto deve continuar sendo financiado pois a classificação das reviews dos clientes da companhia aérea auxilia positivamente a empresa, uma vez que eles conseguem identificar, por meio de dados concretos, se os clientes estão contentes ou não com os serviços oferecidos. Além disso, é possível identificar quais são os principais pontos de contentamento e descontentamento, os quais, somado a um plano de ação da empresa, possibilitará melhorias na companhia, buscando melhorar os serviços oferecidos e a experiência do usuário. \n",
    "\n",
    "Além disso, caso a companhia desejasse enviar reviews positivas e negativas para setores distintos, o classificador removeria a necessidade de que um funcionário lesse cada review e a classificasse, poupando tempo e recursos financeiros da empresa, uma vez que um classificador faria automaticamente tal divisão. \n",
    "\n",
    "**4. Diferentes cenários para Naïve Bayes fora do contexto do projeto:**\n",
    "\n",
    "* Detectar Fake News;\n",
    "\n",
    "* Detectar mensagens ofensivas/ inapropriadas para, possivelmente, retirar da internet;\n",
    "\n",
    "**5. Possíveis melhorias para o projeto:**\n",
    "\n",
    "* Aplicar os métodos stemming e lemmatization na limpeza das frases.\n",
    "\n",
    "    * Stemming: Analisa cada palavra individualmente e a reduz para o seu radical (não será necessariamente gramaticamente correta);\n",
    "\n",
    "    * Lemmatization: Analisa cada palavra individualmente e a reduz para o seu radical (será necessariamente gramaticamente correta);\n",
    "\n",
    "    * Ambos os métodos podem melhorar a nossa ánalise ao juntar palavras difernetes mas com o radical semelhante, alterando a probabilidade final e, portanto, a classificação final (material de pesquisa em \"Referências\").\n",
    "\n",
    "* Aplicar metodos de redes neurais, para podermos considerar a semantica e ordem das palavras, com o intuito de aumentar a assertividade do código.\n",
    "\n",
    "**6. Porque não pode usar o próprio classificador para gerar mais amostras de treinamento?**\n",
    "\n",
    "Não pode utilizar o próprio classificador para gerar mais amostras pois não é possiível garantir que a classificação gerada pelo boot está correta. Caso esteja incorreta, há o risco de perpetuar erros ao longo de todas as futuras classificações. Além disso, a quantidade de palavras e possibilidades de frases são limitadas, uma vez que a base de dados seria variações da mesma base inicial. "
   ]
  },
  {
   "cell_type": "markdown",
   "metadata": {},
   "source": [
    "___\n",
    "### Qualidade do Classificador a partir de novas separações das mensagens entre Treinamento e Teste\n",
    "Nessa parte, a divisão da base de dados original será refeita em 100 diferentes seeds. O objetivo é entender se a distribução da base de dados afeta (significativamente) a acurácia do classificador."
   ]
  },
  {
   "cell_type": "code",
   "execution_count": 12,
   "metadata": {},
   "outputs": [],
   "source": [
    "# Biblioteca necessária para dividir o dataframe em treino e teste\n",
    "from sklearn.model_selection import train_test_split"
   ]
  },
  {
   "cell_type": "code",
   "execution_count": 13,
   "metadata": {},
   "outputs": [],
   "source": [
    "# Reintegrando os dataframes em um só\n",
    "dados = pd.concat([train, test]).drop(columns=['Boot'])\n",
    "\n",
    "# Lista de acurácias\n",
    "acuracias = []\n",
    "\n",
    "# Loop para testar diferentes seeds\n",
    "for i in range(100):\n",
    "    # Obtendo os dados de treino e teste\n",
    "    X_train, X_test, y_train, y_test = train_test_split(dados.Review, dados.NPS, test_size=0.3, random_state=i)\n",
    "    dados_treino = pd.concat([X_train, y_train], axis=1)\n",
    "    dados_teste = pd.concat([X_test, y_test], axis=1)\n",
    "\n",
    "    # Contagem dos dados de treino\n",
    "    dados_treino = contagem(dados_treino)\n",
    "    tabela_Detractor = dados_treino['tabela_Detractor']\n",
    "    tabela_Passive = dados_treino['tabela_Passive']\n",
    "    tabela_Promoter = dados_treino['tabela_Promoter']\n",
    "    tabela_train = dados_treino['tabela_df']\n",
    "    serie_Detractor = dados_treino['serie_Detractor']\n",
    "    serie_Promoter = dados_treino['serie_Promoter']\n",
    "    serie_Passive = dados_treino['serie_Passive']\n",
    "    P_NPS = [dados_treino['P_D'], dados_treino['P_Pa'], dados_treino['P_Pr']]\n",
    "\n",
    "    # Classificação\n",
    "    classificacao_teste = classificador(tabela_Detractor, tabela_Passive, tabela_Promoter, tabela_train, serie_Detractor, serie_Passive, serie_Promoter, dados_teste, P_NPS)\n",
    "    dados_teste['Boot'] = classificacao_teste\n",
    "\n",
    "    # Acurácia\n",
    "    acuracia_teste = len(dados_teste.loc[(dados_teste.NPS == dados_teste.Boot), :])/len(dados_teste)\n",
    "    acuracias.append(acuracia_teste)"
   ]
  },
  {
   "cell_type": "code",
   "execution_count": 14,
   "metadata": {},
   "outputs": [
    {
     "data": {
      "image/png": "[encoded data removed]",
      "text/plain": [
       "<Figure size 640x480 with 1 Axes>"
      ]
     },
     "metadata": {},
     "output_type": "display_data"
    }
   ],
   "source": [
    "# Histograma\n",
    "acuracias_porcentagem = [acuracia * 100 for acuracia in acuracias]\n",
    "plt.hist(acuracias_porcentagem, bins=20, edgecolor='k', density=False)\n",
    "\n",
    "plt.title('Acurácias')\n",
    "plt.xlabel('Acurácia (%)')\n",
    "plt.ylabel('Frequência')\n",
    "plt.show()"
   ]
  },
  {
   "cell_type": "markdown",
   "metadata": {},
   "source": [
    "#### Conclusão\n",
    "Como é possível observar no histograma, alterar a base de dados **não afeta significativamente** a eficácia do classificador, apresentando uma variação máxima de +/- 2% em relação ao primeiro teste. Isso ocorre porque o classificador é feito com o intuito de **generalizar as informações** apresentadas, e **não memorizar** casos específicos. Dessa forma, variações na organização dos dados, que seguem um mesmo padrão, não afetam significativamente a performance do programa."
   ]
  },
  {
   "cell_type": "markdown",
   "metadata": {},
   "source": [
    "___\n",
    "## Aperfeiçoamento:\n",
    "\n",
    "Trabalhos que conseguirem pelo menos conceito B vão evoluir em conceito dependendo da quantidade de itens avançados:\n",
    "\n",
    "* OK IMPLEMENTOU outras limpezas e transformações que não afetem a qualidade da informação contida nas mensagens. Ex: stemming, lemmatization, stopwords\n",
    "* OK CONSIDEROU arquivo com três categorias na classificação das variáveis (OBRIGATÓRIO PARA QUARTETOS, sem contar como item avançado)\n",
    "* OK CONSTRUIU o cálculo das probabilidades corretamente utilizando bigramas E apresentou referência sobre o método utilizado.\n",
    "* EXPLICOU porquê não pode usar o próprio classificador para gerar mais amostras de treinamento\n",
    "* OK PROPÔS diferentes cenários para Naïve Bayes fora do contexto do projeto (pelo menos dois cenários diferentes, exceto aqueles já apresentados em sala pelos professores: por exemplo, filtro de spam)\n",
    "* OK SUGERIU e EXPLICOU melhorias reais com indicações concretas de como implementar (indicar como fazer e indicar material de pesquisa)\n",
    "* FEZ o item Qualidade do Classificador a partir de novas separações das mensagens entre Treinamento e Teste descrito no enunciado do projeto (OBRIGATÓRIO para conceitos A ou A+)\n"
   ]
  },
  {
   "cell_type": "markdown",
   "metadata": {},
   "source": [
    "___\n",
    "## Referências"
   ]
  },
  {
   "cell_type": "markdown",
   "metadata": {},
   "source": [
    "[Naive Bayes and Text Classification](https://arxiv.org/pdf/1410.5329.pdf)  **Mais completo**\n",
    "\n",
    "[A practical explanation of a Naive Bayes Classifier](https://monkeylearn.com/blog/practical-explanation-naive-bayes-classifier/) **Mais simples**\n",
    "\n",
    "[Lemmatization vs. stemming: quando usar cada uma?](https://www.alura.com.br/artigos/lemmatization-vs-stemming-quando-usar-cada-uma) **Diferenças entre Lemmatization e stemming, e como aplicar cada uma**\n",
    "\n",
    "[Como uma rede neural Aprende?](https://youtu.be/mWD8wWwZpi8?si=sxqbkwEUJLPiLUMs) **Utilização de redes neurais para melhorar a assertividade do codigo.**\n"
   ]
  },
  {
   "cell_type": "code",
   "execution_count": 15,
   "metadata": {},
   "outputs": [],
   "source": [
    "# O modelo probabilistico para o calculo e classificação de texto, se baseia na probabilidade de uma palavra estar em um NPS específico. Fizemos o uso do metodo de Naive Bayes para calcular a probabilidade de uma palavra estar em um NPS específico. Com o intuito de minimizar os erros e maximizar a porcentagem de acertividade, aplicamos a suavização de Laplace dentro do código "
   ]
  }
 ],
 "metadata": {
  "kernelspec": {
   "display_name": "Python 3 (ipykernel)",
   "language": "python",
   "name": "python3"
  },
  "language_info": {
   "codemirror_mode": {
    "name": "ipython",
    "version": 3
   },
   "file_extension": ".py",
   "mimetype": "text/x-python",
   "name": "python",
   "nbconvert_exporter": "python",
   "pygments_lexer": "ipython3",
   "version": "3.12.2"
  }
 },
 "nbformat": 4,
 "nbformat_minor": 4
}
