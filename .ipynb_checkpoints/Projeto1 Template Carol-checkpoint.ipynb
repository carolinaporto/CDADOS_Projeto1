{
 "cells": [
  {
   "cell_type": "markdown",
   "metadata": {},
   "source": [
    "# Projeto 1 - Ciência dos Dados"
   ]
  },
  {
   "cell_type": "markdown",
   "metadata": {},
   "source": [
    "Nome: Maria Carolina Porto \n",
    "\n",
    "Nome: Thomas Kassabian\n",
    "\n",
    "Nome: Kaique Tinto\n",
    "\n",
    "Nome: Eduardo Candeias"
   ]
  },
  {
   "cell_type": "markdown",
   "metadata": {},
   "source": [
    "Atenção: Serão permitidos grupos de até 4 pessoas, mas com uma rubrica mais exigente. "
   ]
  },
  {
   "cell_type": "markdown",
   "metadata": {},
   "source": [
    "___\n",
    "Carregando algumas bibliotecas:"
   ]
  },
  {
   "cell_type": "code",
   "execution_count": 404,
   "metadata": {},
   "outputs": [],
   "source": [
    "%matplotlib inline\n",
    "import pandas as pd\n",
    "import matplotlib.pyplot as plt\n",
    "import numpy as np\n",
    "import os"
   ]
  },
  {
   "cell_type": "code",
   "execution_count": 405,
   "metadata": {
    "scrolled": false
   },
   "outputs": [
    {
     "name": "stdout",
     "output_type": "stream",
     "text": [
      "Esperamos trabalhar no diretório\n",
      "C:\\Users\\carol\\OneDrive - Insper - Institudo de Ensino e Pesquisa\\2 SEMESTRE\\C_DADOS\\Projetos\\CDADOS_Projeto1\n"
     ]
    }
   ],
   "source": [
    "print('Esperamos trabalhar no diretório')\n",
    "print(os.getcwd())"
   ]
  },
  {
   "cell_type": "markdown",
   "metadata": {},
   "source": [
    "Carregando a base de dados com as mensagens dos seus arquivos:"
   ]
  },
  {
   "cell_type": "code",
   "execution_count": 406,
   "metadata": {},
   "outputs": [
    {
     "data": {
      "text/html": [
       "<div>\n",
       "<style scoped>\n",
       "    .dataframe tbody tr th:only-of-type {\n",
       "        vertical-align: middle;\n",
       "    }\n",
       "\n",
       "    .dataframe tbody tr th {\n",
       "        vertical-align: top;\n",
       "    }\n",
       "\n",
       "    .dataframe thead th {\n",
       "        text-align: right;\n",
       "    }\n",
       "</style>\n",
       "<table border=\"1\" class=\"dataframe\">\n",
       "  <thead>\n",
       "    <tr style=\"text-align: right;\">\n",
       "      <th></th>\n",
       "      <th>Review</th>\n",
       "      <th>NPS</th>\n",
       "    </tr>\n",
       "  </thead>\n",
       "  <tbody>\n",
       "    <tr>\n",
       "      <th>0</th>\n",
       "      <td>Bangkok to Phuket round trip. The lounge at th...</td>\n",
       "      <td>Promoter</td>\n",
       "    </tr>\n",
       "    <tr>\n",
       "      <th>1</th>\n",
       "      <td>A real mixed bag with Air New Zealand from Auc...</td>\n",
       "      <td>Passive</td>\n",
       "    </tr>\n",
       "    <tr>\n",
       "      <th>2</th>\n",
       "      <td>Second in the queue in business class check-...</td>\n",
       "      <td>Detractor</td>\n",
       "    </tr>\n",
       "    <tr>\n",
       "      <th>3</th>\n",
       "      <td>London Heathrow to Riyadh return. Pleasant f...</td>\n",
       "      <td>Promoter</td>\n",
       "    </tr>\n",
       "    <tr>\n",
       "      <th>4</th>\n",
       "      <td>Hong Kong to Bangkok. Check-in at the transf...</td>\n",
       "      <td>Promoter</td>\n",
       "    </tr>\n",
       "    <tr>\n",
       "      <th>...</th>\n",
       "      <td>...</td>\n",
       "      <td>...</td>\n",
       "    </tr>\n",
       "    <tr>\n",
       "      <th>4195</th>\n",
       "      <td>Ft Lauderdale to Kansas City via Detroit. I ...</td>\n",
       "      <td>Promoter</td>\n",
       "    </tr>\n",
       "    <tr>\n",
       "      <th>4196</th>\n",
       "      <td>After 3 hours in the plane waiting for repairs...</td>\n",
       "      <td>Detractor</td>\n",
       "    </tr>\n",
       "    <tr>\n",
       "      <th>4197</th>\n",
       "      <td>ARN-LHR on an ageing but generally clean B737-...</td>\n",
       "      <td>Detractor</td>\n",
       "    </tr>\n",
       "    <tr>\n",
       "      <th>4198</th>\n",
       "      <td>My mother left on AI 43 MAA-DEL connecting AI ...</td>\n",
       "      <td>Promoter</td>\n",
       "    </tr>\n",
       "    <tr>\n",
       "      <th>4199</th>\n",
       "      <td>We had the most amazing flight crew on the wa...</td>\n",
       "      <td>Promoter</td>\n",
       "    </tr>\n",
       "  </tbody>\n",
       "</table>\n",
       "<p>4200 rows × 2 columns</p>\n",
       "</div>"
      ],
      "text/plain": [
       "                                                 Review        NPS\n",
       "0     Bangkok to Phuket round trip. The lounge at th...   Promoter\n",
       "1     A real mixed bag with Air New Zealand from Auc...    Passive\n",
       "2       Second in the queue in business class check-...  Detractor\n",
       "3       London Heathrow to Riyadh return. Pleasant f...   Promoter\n",
       "4       Hong Kong to Bangkok. Check-in at the transf...   Promoter\n",
       "...                                                 ...        ...\n",
       "4195    Ft Lauderdale to Kansas City via Detroit. I ...   Promoter\n",
       "4196  After 3 hours in the plane waiting for repairs...  Detractor\n",
       "4197  ARN-LHR on an ageing but generally clean B737-...  Detractor\n",
       "4198  My mother left on AI 43 MAA-DEL connecting AI ...   Promoter\n",
       "4199   We had the most amazing flight crew on the wa...   Promoter\n",
       "\n",
       "[4200 rows x 2 columns]"
      ]
     },
     "execution_count": 406,
     "metadata": {},
     "output_type": "execute_result"
    }
   ],
   "source": [
    "train = pd.read_csv('dados_treino_QUARTETO_Thomas.csv')\n",
    "train"
   ]
  },
  {
   "cell_type": "code",
   "execution_count": 407,
   "metadata": {},
   "outputs": [
    {
     "data": {
      "text/html": [
       "<div>\n",
       "<style scoped>\n",
       "    .dataframe tbody tr th:only-of-type {\n",
       "        vertical-align: middle;\n",
       "    }\n",
       "\n",
       "    .dataframe tbody tr th {\n",
       "        vertical-align: top;\n",
       "    }\n",
       "\n",
       "    .dataframe thead th {\n",
       "        text-align: right;\n",
       "    }\n",
       "</style>\n",
       "<table border=\"1\" class=\"dataframe\">\n",
       "  <thead>\n",
       "    <tr style=\"text-align: right;\">\n",
       "      <th></th>\n",
       "      <th>Review</th>\n",
       "      <th>NPS</th>\n",
       "    </tr>\n",
       "  </thead>\n",
       "  <tbody>\n",
       "    <tr>\n",
       "      <th>0</th>\n",
       "      <td>Melbourne to Singapore on a Singapore Airlines...</td>\n",
       "      <td>Promoter</td>\n",
       "    </tr>\n",
       "    <tr>\n",
       "      <th>1</th>\n",
       "      <td>Palermo to Moscow via Rome and I was so unluc...</td>\n",
       "      <td>Detractor</td>\n",
       "    </tr>\n",
       "    <tr>\n",
       "      <th>2</th>\n",
       "      <td>Actual flight both ways was good but the handl...</td>\n",
       "      <td>Passive</td>\n",
       "    </tr>\n",
       "    <tr>\n",
       "      <th>3</th>\n",
       "      <td>Flew Spirit Airlines from Orlando to Boston....</td>\n",
       "      <td>Detractor</td>\n",
       "    </tr>\n",
       "    <tr>\n",
       "      <th>4</th>\n",
       "      <td>Shockingly poor experience on many levels, as...</td>\n",
       "      <td>Detractor</td>\n",
       "    </tr>\n",
       "    <tr>\n",
       "      <th>...</th>\n",
       "      <td>...</td>\n",
       "      <td>...</td>\n",
       "    </tr>\n",
       "    <tr>\n",
       "      <th>1795</th>\n",
       "      <td>I broke my foot on my vacation and the entire ...</td>\n",
       "      <td>Promoter</td>\n",
       "    </tr>\n",
       "    <tr>\n",
       "      <th>1796</th>\n",
       "      <td>LHR-PEK-Tokyo RT in Business. One-word comment...</td>\n",
       "      <td>Passive</td>\n",
       "    </tr>\n",
       "    <tr>\n",
       "      <th>1797</th>\n",
       "      <td>Gatwick to Fort Lauderdale. Charging to choos...</td>\n",
       "      <td>Detractor</td>\n",
       "    </tr>\n",
       "    <tr>\n",
       "      <th>1798</th>\n",
       "      <td>Flown with Aeroflot for the first time, from L...</td>\n",
       "      <td>Passive</td>\n",
       "    </tr>\n",
       "    <tr>\n",
       "      <th>1799</th>\n",
       "      <td>TLL-RIX-KPB economy. High overall price despit...</td>\n",
       "      <td>Promoter</td>\n",
       "    </tr>\n",
       "  </tbody>\n",
       "</table>\n",
       "<p>1800 rows × 2 columns</p>\n",
       "</div>"
      ],
      "text/plain": [
       "                                                 Review        NPS\n",
       "0     Melbourne to Singapore on a Singapore Airlines...   Promoter\n",
       "1      Palermo to Moscow via Rome and I was so unluc...  Detractor\n",
       "2     Actual flight both ways was good but the handl...    Passive\n",
       "3       Flew Spirit Airlines from Orlando to Boston....  Detractor\n",
       "4      Shockingly poor experience on many levels, as...  Detractor\n",
       "...                                                 ...        ...\n",
       "1795  I broke my foot on my vacation and the entire ...   Promoter\n",
       "1796  LHR-PEK-Tokyo RT in Business. One-word comment...    Passive\n",
       "1797   Gatwick to Fort Lauderdale. Charging to choos...  Detractor\n",
       "1798  Flown with Aeroflot for the first time, from L...    Passive\n",
       "1799  TLL-RIX-KPB economy. High overall price despit...   Promoter\n",
       "\n",
       "[1800 rows x 2 columns]"
      ]
     },
     "execution_count": 407,
     "metadata": {},
     "output_type": "execute_result"
    }
   ],
   "source": [
    "test = pd.read_csv('dados_teste_QUARTETO_Thomas.csv')\n",
    "test"
   ]
  },
  {
   "cell_type": "code",
   "execution_count": 408,
   "metadata": {},
   "outputs": [
    {
     "data": {
      "text/html": [
       "<div>\n",
       "<style scoped>\n",
       "    .dataframe tbody tr th:only-of-type {\n",
       "        vertical-align: middle;\n",
       "    }\n",
       "\n",
       "    .dataframe tbody tr th {\n",
       "        vertical-align: top;\n",
       "    }\n",
       "\n",
       "    .dataframe thead th {\n",
       "        text-align: right;\n",
       "    }\n",
       "</style>\n",
       "<table border=\"1\" class=\"dataframe\">\n",
       "  <thead>\n",
       "    <tr style=\"text-align: right;\">\n",
       "      <th></th>\n",
       "      <th>Review</th>\n",
       "      <th>NPS</th>\n",
       "    </tr>\n",
       "  </thead>\n",
       "  <tbody>\n",
       "    <tr>\n",
       "      <th>1</th>\n",
       "      <td>A real mixed bag with Air New Zealand from Auc...</td>\n",
       "      <td>Passive</td>\n",
       "    </tr>\n",
       "    <tr>\n",
       "      <th>5</th>\n",
       "      <td>HKG-SVO-HKG A330 Economy. Both legs slightly d...</td>\n",
       "      <td>Passive</td>\n",
       "    </tr>\n",
       "    <tr>\n",
       "      <th>6</th>\n",
       "      <td>This flight from Bodhgaya to Delhi was the l...</td>\n",
       "      <td>Passive</td>\n",
       "    </tr>\n",
       "    <tr>\n",
       "      <th>8</th>\n",
       "      <td>Kuala Lumpur to Krabi. Despite that AirAsia ha...</td>\n",
       "      <td>Passive</td>\n",
       "    </tr>\n",
       "    <tr>\n",
       "      <th>9</th>\n",
       "      <td>Frankfurt to Lima via Madrid with Air Europa. ...</td>\n",
       "      <td>Passive</td>\n",
       "    </tr>\n",
       "    <tr>\n",
       "      <th>...</th>\n",
       "      <td>...</td>\n",
       "      <td>...</td>\n",
       "    </tr>\n",
       "    <tr>\n",
       "      <th>4169</th>\n",
       "      <td>Flew between Toronto and Samana Dominican Repu...</td>\n",
       "      <td>Passive</td>\n",
       "    </tr>\n",
       "    <tr>\n",
       "      <th>4170</th>\n",
       "      <td>My flights were all on time and no luggage was...</td>\n",
       "      <td>Passive</td>\n",
       "    </tr>\n",
       "    <tr>\n",
       "      <th>4180</th>\n",
       "      <td>The section of the Ryanair check in desk had a...</td>\n",
       "      <td>Passive</td>\n",
       "    </tr>\n",
       "    <tr>\n",
       "      <th>4183</th>\n",
       "      <td>Flew from Shanghai to Osaka on China Eastern o...</td>\n",
       "      <td>Passive</td>\n",
       "    </tr>\n",
       "    <tr>\n",
       "      <th>4190</th>\n",
       "      <td>My partner and I were flying from London Hea...</td>\n",
       "      <td>Passive</td>\n",
       "    </tr>\n",
       "  </tbody>\n",
       "</table>\n",
       "<p>686 rows × 2 columns</p>\n",
       "</div>"
      ],
      "text/plain": [
       "                                                 Review      NPS\n",
       "1     A real mixed bag with Air New Zealand from Auc...  Passive\n",
       "5     HKG-SVO-HKG A330 Economy. Both legs slightly d...  Passive\n",
       "6       This flight from Bodhgaya to Delhi was the l...  Passive\n",
       "8     Kuala Lumpur to Krabi. Despite that AirAsia ha...  Passive\n",
       "9     Frankfurt to Lima via Madrid with Air Europa. ...  Passive\n",
       "...                                                 ...      ...\n",
       "4169  Flew between Toronto and Samana Dominican Repu...  Passive\n",
       "4170  My flights were all on time and no luggage was...  Passive\n",
       "4180  The section of the Ryanair check in desk had a...  Passive\n",
       "4183  Flew from Shanghai to Osaka on China Eastern o...  Passive\n",
       "4190    My partner and I were flying from London Hea...  Passive\n",
       "\n",
       "[686 rows x 2 columns]"
      ]
     },
     "execution_count": 408,
     "metadata": {},
     "output_type": "execute_result"
    }
   ],
   "source": [
    "passiv = train.loc[(train.NPS == 'Passive'),:]\n",
    "passiv"
   ]
  },
  {
   "cell_type": "markdown",
   "metadata": {},
   "source": [
    "___\n",
    "## Classificador automático\n"
   ]
  },
  {
   "cell_type": "markdown",
   "metadata": {},
   "source": [
    "Faça aqui uma descrição do seu assunto e o contexto referente aos rótulos cujas mensagens (ou reviews) deverão ser classificadas.\n",
    "\n",
    "ESCREVA AQUI..."
   ]
  },
  {
   "cell_type": "markdown",
   "metadata": {},
   "source": [
    "___\n",
    "### Montando um Classificador Naive-Bayes\n",
    "\n",
    "Considerando apenas as mensagens da planilha Treinamento, ensine  seu classificador."
   ]
  },
  {
   "cell_type": "code",
   "execution_count": 409,
   "metadata": {},
   "outputs": [],
   "source": [
    "# Limpando a base de dados\n",
    "\n",
    "import re\n",
    "\n",
    "def cleanup(text):\n",
    "    #import string\n",
    "    \n",
    "    # Retira a pontuação\n",
    "    punctuation = '[´\"!-.:?;$''()]'\n",
    "    pattern = re.compile(punctuation)\n",
    "    \n",
    "    # Retira as stopwords (palavras indiferentes para o cálculo)\n",
    "    stopwords = ['the','to', 'and', 'was', 'i','a', 'in', 'on', 'of', 'with','for', 'flight']\n",
    "    words = r'\\b(?:' + '|'.join(map(re.escape, stopwords)) + r')\\b'\n",
    "    \n",
    "    # Retira palavras de duas letras\n",
    "    limpa_duas_letras = r'\\b\\w{1,2}\\b'\n",
    "    \n",
    "    text = re.sub(pattern, '', text)\n",
    "    text = re.sub(words, '', text, flags=re.IGNORECASE)\n",
    "    text = re.sub(limpa_duas_letras, '', text)\n",
    "\n",
    "    return text"
   ]
  },
  {
   "cell_type": "code",
   "execution_count": 410,
   "metadata": {},
   "outputs": [],
   "source": [
    "# Função que recebe um dataframe, limpa e transforma em lista\n",
    "def transf_lista(dataframe):\n",
    "    texto = \" \"\n",
    "\n",
    "    for linha in dataframe['Review']:\n",
    "        texto = texto + cleanup(linha)\n",
    "    \n",
    "    lista = texto.lower().split()\n",
    "    return lista"
   ]
  },
  {
   "cell_type": "code",
   "execution_count": 411,
   "metadata": {},
   "outputs": [
    {
     "data": {
      "text/plain": [
       "Detractor    1965\n",
       "Promoter     1549\n",
       "Passive       686\n",
       "Name: NPS, dtype: int64"
      ]
     },
     "execution_count": 411,
     "metadata": {},
     "output_type": "execute_result"
    }
   ],
   "source": [
    "train.NPS.value_counts()"
   ]
  },
  {
   "cell_type": "code",
   "execution_count": 412,
   "metadata": {
    "scrolled": true
   },
   "outputs": [
    {
     "data": {
      "text/plain": [
       "0            bangkok\n",
       "1             phuket\n",
       "2              round\n",
       "3               trip\n",
       "4             lounge\n",
       "             ...    \n",
       "106343          legs\n",
       "106344          best\n",
       "106345    experience\n",
       "106346        flying\n",
       "106347          ever\n",
       "Length: 106348, dtype: object"
      ]
     },
     "execution_count": 412,
     "metadata": {},
     "output_type": "execute_result"
    }
   ],
   "source": [
    "# Criando pd.Series para cada classificação distinta e para o total\n",
    "\n",
    "serie_train = pd.Series(transf_lista(train))\n",
    "serie_Detractor = pd.Series(transf_lista(train.loc[(train.NPS == 'Detractor'), :]))\n",
    "serie_Promoter = pd.Series(transf_lista(train.loc[(train.NPS == 'Promoter'), :]))\n",
    "serie_Passive = pd.Series(transf_lista(train.loc[(train.NPS == 'Passive'), :]))\n",
    "\n",
    "serie_Promoter"
   ]
  },
  {
   "cell_type": "code",
   "execution_count": 413,
   "metadata": {},
   "outputs": [
    {
     "data": {
      "text/plain": [
       "were             1669\n",
       "very             1310\n",
       "but              1123\n",
       "from             1080\n",
       "good             1072\n",
       "                 ... \n",
       "planeshanghai       1\n",
       "unrefurbished       1\n",
       "319                 1\n",
       "singlemalt          1\n",
       "prevailed           1\n",
       "Length: 9133, dtype: int64"
      ]
     },
     "execution_count": 413,
     "metadata": {},
     "output_type": "execute_result"
    }
   ],
   "source": [
    "# Criando uma tabela com a contagem de cada palavra em cada classificação\n",
    "tabela_train = serie_train.value_counts()\n",
    "tabela_Detractor = serie_Detractor.value_counts()\n",
    "tabela_Promoter = serie_Promoter.value_counts()\n",
    "tabela_Passive = serie_Passive.value_counts()\n",
    "\n",
    "tabela_Promoter"
   ]
  },
  {
   "cell_type": "code",
   "execution_count": 414,
   "metadata": {
    "scrolled": true
   },
   "outputs": [
    {
     "data": {
      "text/plain": [
       "were             0.015694\n",
       "very             0.012318\n",
       "but              0.010560\n",
       "from             0.010155\n",
       "good             0.010080\n",
       "                   ...   \n",
       "planeshanghai    0.000009\n",
       "unrefurbished    0.000009\n",
       "319              0.000009\n",
       "singlemalt       0.000009\n",
       "prevailed        0.000009\n",
       "Length: 9133, dtype: float64"
      ]
     },
     "execution_count": 414,
     "metadata": {},
     "output_type": "execute_result"
    }
   ],
   "source": [
    "# Criando uma tabela com a porcentagem relativa de cada palavra em cada classificação\n",
    "\n",
    "tabela_Detractor_relativo = serie_Detractor.value_counts(True)\n",
    "tabela_Promoter_relativo = serie_Promoter.value_counts(True)\n",
    "tabela_Passive_relativo = serie_Passive.value_counts(True)\n",
    "\n",
    "tabela_Promoter_relativo"
   ]
  },
  {
   "cell_type": "code",
   "execution_count": 415,
   "metadata": {},
   "outputs": [
    {
     "data": {
      "text/plain": [
       "they               0.015039\n",
       "that               0.015000\n",
       "not                0.013754\n",
       "were               0.012235\n",
       "had                0.010816\n",
       "                     ...   \n",
       "shopping/dining    0.000005\n",
       "passageway         0.000005\n",
       "humanity           0.000005\n",
       "crush              0.000005\n",
       "tea/coffee         0.000005\n",
       "Length: 11793, dtype: float64"
      ]
     },
     "execution_count": 415,
     "metadata": {},
     "output_type": "execute_result"
    }
   ],
   "source": [
    "tabela_Detractor_relativo"
   ]
  },
  {
   "cell_type": "code",
   "execution_count": 416,
   "metadata": {
    "scrolled": true
   },
   "outputs": [
    {
     "data": {
      "text/plain": [
       "were              0.013745\n",
       "but               0.013369\n",
       "not               0.013254\n",
       "that              0.009867\n",
       "from              0.009000\n",
       "                    ...   \n",
       "youca105/ca106    0.000016\n",
       "dalian            0.000016\n",
       "zytl              0.000016\n",
       "vhhh              0.000016\n",
       "improperly        0.000016\n",
       "Length: 7091, dtype: float64"
      ]
     },
     "execution_count": 416,
     "metadata": {},
     "output_type": "execute_result"
    }
   ],
   "source": [
    "tabela_Passive_relativo"
   ]
  },
  {
   "cell_type": "markdown",
   "metadata": {},
   "source": [
    "___\n",
    "### Calculando as porcentagens\n"
   ]
  },
  {
   "cell_type": "code",
   "execution_count": 417,
   "metadata": {},
   "outputs": [],
   "source": [
    "# Criar funcao para calcular a probabilidade \n",
    "\n",
    "def calc_prob(palavra, tab_NPS, len_serie_NPS):\n",
    "    prob = 1\n",
    "    if palavra in tab_NPS:\n",
    "        prob = ((tab_NPS[palavra] + 1)/(len_serie_NPS+ len(tabela_train)))*1e3\n",
    "    else:   \n",
    "        prob = (1/(len_serie_NPS + len(tabela_train)))*1e3\n",
    "\n",
    "    return prob"
   ]
  },
  {
   "cell_type": "code",
   "execution_count": 418,
   "metadata": {},
   "outputs": [
    {
     "name": "stdout",
     "output_type": "stream",
     "text": [
      "0.5461164390616783 0.16565649446754527 0.288273147671273\n"
     ]
    }
   ],
   "source": [
    "P_D = len(serie_Detractor)/len(serie_train)\n",
    "P_Pa = len(serie_Passive)/len(serie_train)\n",
    "P_Pr = len(serie_Promoter)/len(serie_train)\n",
    "\n",
    "print(P_D, P_Pa, P_Pr)"
   ]
  },
  {
   "cell_type": "code",
   "execution_count": 419,
   "metadata": {
    "scrolled": false
   },
   "outputs": [
    {
     "data": {
      "text/html": [
       "<div>\n",
       "<style scoped>\n",
       "    .dataframe tbody tr th:only-of-type {\n",
       "        vertical-align: middle;\n",
       "    }\n",
       "\n",
       "    .dataframe tbody tr th {\n",
       "        vertical-align: top;\n",
       "    }\n",
       "\n",
       "    .dataframe thead th {\n",
       "        text-align: right;\n",
       "    }\n",
       "</style>\n",
       "<table border=\"1\" class=\"dataframe\">\n",
       "  <thead>\n",
       "    <tr style=\"text-align: right;\">\n",
       "      <th></th>\n",
       "      <th>Review</th>\n",
       "      <th>NPS</th>\n",
       "      <th>Boot</th>\n",
       "    </tr>\n",
       "  </thead>\n",
       "  <tbody>\n",
       "    <tr>\n",
       "      <th>0</th>\n",
       "      <td>Bangkok to Phuket round trip. The lounge at th...</td>\n",
       "      <td>Promoter</td>\n",
       "      <td>Promoter</td>\n",
       "    </tr>\n",
       "    <tr>\n",
       "      <th>1</th>\n",
       "      <td>A real mixed bag with Air New Zealand from Auc...</td>\n",
       "      <td>Passive</td>\n",
       "      <td>Passive</td>\n",
       "    </tr>\n",
       "    <tr>\n",
       "      <th>2</th>\n",
       "      <td>Second in the queue in business class check-...</td>\n",
       "      <td>Detractor</td>\n",
       "      <td>Detractor</td>\n",
       "    </tr>\n",
       "    <tr>\n",
       "      <th>3</th>\n",
       "      <td>London Heathrow to Riyadh return. Pleasant f...</td>\n",
       "      <td>Promoter</td>\n",
       "      <td>Promoter</td>\n",
       "    </tr>\n",
       "    <tr>\n",
       "      <th>4</th>\n",
       "      <td>Hong Kong to Bangkok. Check-in at the transf...</td>\n",
       "      <td>Promoter</td>\n",
       "      <td>Promoter</td>\n",
       "    </tr>\n",
       "    <tr>\n",
       "      <th>...</th>\n",
       "      <td>...</td>\n",
       "      <td>...</td>\n",
       "      <td>...</td>\n",
       "    </tr>\n",
       "    <tr>\n",
       "      <th>4195</th>\n",
       "      <td>Ft Lauderdale to Kansas City via Detroit. I ...</td>\n",
       "      <td>Promoter</td>\n",
       "      <td>Detractor</td>\n",
       "    </tr>\n",
       "    <tr>\n",
       "      <th>4196</th>\n",
       "      <td>After 3 hours in the plane waiting for repairs...</td>\n",
       "      <td>Detractor</td>\n",
       "      <td>Detractor</td>\n",
       "    </tr>\n",
       "    <tr>\n",
       "      <th>4197</th>\n",
       "      <td>ARN-LHR on an ageing but generally clean B737-...</td>\n",
       "      <td>Detractor</td>\n",
       "      <td>Promoter</td>\n",
       "    </tr>\n",
       "    <tr>\n",
       "      <th>4198</th>\n",
       "      <td>My mother left on AI 43 MAA-DEL connecting AI ...</td>\n",
       "      <td>Promoter</td>\n",
       "      <td>Promoter</td>\n",
       "    </tr>\n",
       "    <tr>\n",
       "      <th>4199</th>\n",
       "      <td>We had the most amazing flight crew on the wa...</td>\n",
       "      <td>Promoter</td>\n",
       "      <td>Promoter</td>\n",
       "    </tr>\n",
       "  </tbody>\n",
       "</table>\n",
       "<p>4200 rows × 3 columns</p>\n",
       "</div>"
      ],
      "text/plain": [
       "                                                 Review        NPS       Boot\n",
       "0     Bangkok to Phuket round trip. The lounge at th...   Promoter   Promoter\n",
       "1     A real mixed bag with Air New Zealand from Auc...    Passive    Passive\n",
       "2       Second in the queue in business class check-...  Detractor  Detractor\n",
       "3       London Heathrow to Riyadh return. Pleasant f...   Promoter   Promoter\n",
       "4       Hong Kong to Bangkok. Check-in at the transf...   Promoter   Promoter\n",
       "...                                                 ...        ...        ...\n",
       "4195    Ft Lauderdale to Kansas City via Detroit. I ...   Promoter  Detractor\n",
       "4196  After 3 hours in the plane waiting for repairs...  Detractor  Detractor\n",
       "4197  ARN-LHR on an ageing but generally clean B737-...  Detractor   Promoter\n",
       "4198  My mother left on AI 43 MAA-DEL connecting AI ...   Promoter   Promoter\n",
       "4199   We had the most amazing flight crew on the wa...   Promoter   Promoter\n",
       "\n",
       "[4200 rows x 3 columns]"
      ]
     },
     "execution_count": 419,
     "metadata": {},
     "output_type": "execute_result"
    }
   ],
   "source": [
    "# Classifica a frase em detractor, promoter, passive\n",
    "\n",
    "classif = []\n",
    "i = 0\n",
    "\n",
    "for frase in train.Review:\n",
    "    frase_limpa = cleanup(frase)\n",
    "    frase_limpa = frase_limpa.lower().split()\n",
    "    \n",
    "    #print(frase_limpa)\n",
    "    \n",
    "    P_frase_dado_D = 1\n",
    "    P_frase_dado_Pa = 1 \n",
    "    P_frase_dado_Pr = 1\n",
    "\n",
    "    for palavra in frase_limpa:\n",
    "        P_frase_dado_D *= calc_prob(palavra, tabela_Detractor, len(serie_Detractor))\n",
    "        P_frase_dado_Pa *= calc_prob(palavra, tabela_Passive, len(serie_Passive))\n",
    "        P_frase_dado_Pr *= calc_prob(palavra, tabela_Promoter, len(serie_Promoter))\n",
    "        #print(palavra, P_frase_dado_D, P_frase_dado_Pa, P_frase_dado_Pr)\n",
    "\n",
    "    P_D_dado_frase = (P_frase_dado_D * P_D)\n",
    "    P_Pa_dado_frase = (P_frase_dado_Pa * P_Pa)\n",
    "    P_Pr_dado_frase = (P_frase_dado_Pr * P_Pr)\n",
    "\n",
    "    prob = [P_D_dado_frase, P_Pa_dado_frase, P_Pr_dado_frase]\n",
    "    #print(prob, max(prob))\n",
    "\n",
    "\n",
    "    if max(prob) == prob[0]:\n",
    "        classif.append(\"Detractor\")\n",
    "    elif max(prob) == prob[1]:\n",
    "        classif.append(\"Passive\")\n",
    "    elif max(prob) == prob[2]:\n",
    "        classif.append(\"Promoter\")\n",
    "        \n",
    "\n",
    "train['Boot'] = classif\n",
    "#print(classif)\n",
    "train"
   ]
  },
  {
   "cell_type": "markdown",
   "metadata": {},
   "source": [
    "___\n",
    "### Verificando a performance do Classificador\n",
    "\n",
    "Agora você deve testar o seu classificador com a base de Testes."
   ]
  },
  {
   "cell_type": "code",
   "execution_count": 420,
   "metadata": {
    "scrolled": false
   },
   "outputs": [
    {
     "data": {
      "text/html": [
       "<div>\n",
       "<style scoped>\n",
       "    .dataframe tbody tr th:only-of-type {\n",
       "        vertical-align: middle;\n",
       "    }\n",
       "\n",
       "    .dataframe tbody tr th {\n",
       "        vertical-align: top;\n",
       "    }\n",
       "\n",
       "    .dataframe thead th {\n",
       "        text-align: right;\n",
       "    }\n",
       "</style>\n",
       "<table border=\"1\" class=\"dataframe\">\n",
       "  <thead>\n",
       "    <tr style=\"text-align: right;\">\n",
       "      <th></th>\n",
       "      <th>Review</th>\n",
       "      <th>NPS</th>\n",
       "      <th>Boot</th>\n",
       "    </tr>\n",
       "  </thead>\n",
       "  <tbody>\n",
       "    <tr>\n",
       "      <th>0</th>\n",
       "      <td>Bangkok to Phuket round trip. The lounge at th...</td>\n",
       "      <td>Promoter</td>\n",
       "      <td>Promoter</td>\n",
       "    </tr>\n",
       "    <tr>\n",
       "      <th>1</th>\n",
       "      <td>A real mixed bag with Air New Zealand from Auc...</td>\n",
       "      <td>Passive</td>\n",
       "      <td>Passive</td>\n",
       "    </tr>\n",
       "    <tr>\n",
       "      <th>2</th>\n",
       "      <td>Second in the queue in business class check-...</td>\n",
       "      <td>Detractor</td>\n",
       "      <td>Detractor</td>\n",
       "    </tr>\n",
       "    <tr>\n",
       "      <th>3</th>\n",
       "      <td>London Heathrow to Riyadh return. Pleasant f...</td>\n",
       "      <td>Promoter</td>\n",
       "      <td>Promoter</td>\n",
       "    </tr>\n",
       "    <tr>\n",
       "      <th>4</th>\n",
       "      <td>Hong Kong to Bangkok. Check-in at the transf...</td>\n",
       "      <td>Promoter</td>\n",
       "      <td>Promoter</td>\n",
       "    </tr>\n",
       "    <tr>\n",
       "      <th>...</th>\n",
       "      <td>...</td>\n",
       "      <td>...</td>\n",
       "      <td>...</td>\n",
       "    </tr>\n",
       "    <tr>\n",
       "      <th>4193</th>\n",
       "      <td>Great Christmas holiday in Spain starting wit...</td>\n",
       "      <td>Promoter</td>\n",
       "      <td>Promoter</td>\n",
       "    </tr>\n",
       "    <tr>\n",
       "      <th>4194</th>\n",
       "      <td>Gothenburg to London. Flights were on time. S...</td>\n",
       "      <td>Detractor</td>\n",
       "      <td>Detractor</td>\n",
       "    </tr>\n",
       "    <tr>\n",
       "      <th>4196</th>\n",
       "      <td>After 3 hours in the plane waiting for repairs...</td>\n",
       "      <td>Detractor</td>\n",
       "      <td>Detractor</td>\n",
       "    </tr>\n",
       "    <tr>\n",
       "      <th>4198</th>\n",
       "      <td>My mother left on AI 43 MAA-DEL connecting AI ...</td>\n",
       "      <td>Promoter</td>\n",
       "      <td>Promoter</td>\n",
       "    </tr>\n",
       "    <tr>\n",
       "      <th>4199</th>\n",
       "      <td>We had the most amazing flight crew on the wa...</td>\n",
       "      <td>Promoter</td>\n",
       "      <td>Promoter</td>\n",
       "    </tr>\n",
       "  </tbody>\n",
       "</table>\n",
       "<p>3598 rows × 3 columns</p>\n",
       "</div>"
      ],
      "text/plain": [
       "                                                 Review        NPS       Boot\n",
       "0     Bangkok to Phuket round trip. The lounge at th...   Promoter   Promoter\n",
       "1     A real mixed bag with Air New Zealand from Auc...    Passive    Passive\n",
       "2       Second in the queue in business class check-...  Detractor  Detractor\n",
       "3       London Heathrow to Riyadh return. Pleasant f...   Promoter   Promoter\n",
       "4       Hong Kong to Bangkok. Check-in at the transf...   Promoter   Promoter\n",
       "...                                                 ...        ...        ...\n",
       "4193   Great Christmas holiday in Spain starting wit...   Promoter   Promoter\n",
       "4194   Gothenburg to London. Flights were on time. S...  Detractor  Detractor\n",
       "4196  After 3 hours in the plane waiting for repairs...  Detractor  Detractor\n",
       "4198  My mother left on AI 43 MAA-DEL connecting AI ...   Promoter   Promoter\n",
       "4199   We had the most amazing flight crew on the wa...   Promoter   Promoter\n",
       "\n",
       "[3598 rows x 3 columns]"
      ]
     },
     "execution_count": 420,
     "metadata": {},
     "output_type": "execute_result"
    }
   ],
   "source": [
    "certo = train.loc[train.NPS == train.Boot, :]\n",
    "certo"
   ]
  },
  {
   "cell_type": "code",
   "execution_count": 421,
   "metadata": {
    "scrolled": true
   },
   "outputs": [
    {
     "data": {
      "text/html": [
       "<div>\n",
       "<style scoped>\n",
       "    .dataframe tbody tr th:only-of-type {\n",
       "        vertical-align: middle;\n",
       "    }\n",
       "\n",
       "    .dataframe tbody tr th {\n",
       "        vertical-align: top;\n",
       "    }\n",
       "\n",
       "    .dataframe thead th {\n",
       "        text-align: right;\n",
       "    }\n",
       "</style>\n",
       "<table border=\"1\" class=\"dataframe\">\n",
       "  <thead>\n",
       "    <tr style=\"text-align: right;\">\n",
       "      <th>Boot</th>\n",
       "      <th>Detractor</th>\n",
       "      <th>Passive</th>\n",
       "      <th>Promoter</th>\n",
       "    </tr>\n",
       "    <tr>\n",
       "      <th>NPS</th>\n",
       "      <th></th>\n",
       "      <th></th>\n",
       "      <th></th>\n",
       "    </tr>\n",
       "  </thead>\n",
       "  <tbody>\n",
       "    <tr>\n",
       "      <th>Detractor</th>\n",
       "      <td>1751</td>\n",
       "      <td>110</td>\n",
       "      <td>104</td>\n",
       "    </tr>\n",
       "    <tr>\n",
       "      <th>Passive</th>\n",
       "      <td>109</td>\n",
       "      <td>412</td>\n",
       "      <td>165</td>\n",
       "    </tr>\n",
       "    <tr>\n",
       "      <th>Promoter</th>\n",
       "      <td>113</td>\n",
       "      <td>1</td>\n",
       "      <td>1435</td>\n",
       "    </tr>\n",
       "  </tbody>\n",
       "</table>\n",
       "</div>"
      ],
      "text/plain": [
       "Boot       Detractor  Passive  Promoter\n",
       "NPS                                    \n",
       "Detractor       1751      110       104\n",
       "Passive          109      412       165\n",
       "Promoter         113        1      1435"
      ]
     },
     "execution_count": 421,
     "metadata": {},
     "output_type": "execute_result"
    }
   ],
   "source": [
    "pd.crosstab(train.NPS, train.Boot)"
   ]
  },
  {
   "cell_type": "markdown",
   "metadata": {},
   "source": [
    "___\n",
    "### Concluindo"
   ]
  },
  {
   "cell_type": "code",
   "execution_count": null,
   "metadata": {},
   "outputs": [],
   "source": []
  },
  {
   "cell_type": "markdown",
   "metadata": {},
   "source": [
    "___\n",
    "### Qualidade do Classificador a partir de novas separações das mensagens entre Treinamento e Teste\n",
    "\n",
    "Caso for fazer esse item do Projeto"
   ]
  },
  {
   "cell_type": "code",
   "execution_count": null,
   "metadata": {},
   "outputs": [],
   "source": []
  },
  {
   "cell_type": "code",
   "execution_count": null,
   "metadata": {},
   "outputs": [],
   "source": []
  },
  {
   "cell_type": "code",
   "execution_count": null,
   "metadata": {},
   "outputs": [],
   "source": []
  },
  {
   "cell_type": "markdown",
   "metadata": {},
   "source": [
    "___\n",
    "## Aperfeiçoamento:\n",
    "\n",
    "Trabalhos que conseguirem pelo menos conceito B vão evoluir em conceito dependendo da quantidade de itens avançados:\n",
    "\n",
    "* IMPLEMENTOU outras limpezas e transformações que não afetem a qualidade da informação contida nas mensagens. Ex: stemming, lemmatization, stopwords\n",
    "* CONSIDEROU arquivo com três categorias na classificação das variáveis (OBRIGATÓRIO PARA QUARTETOS, sem contar como item avançado)\n",
    "* CONSTRUIU o cálculo das probabilidades corretamente utilizando bigramas E apresentou referência sobre o método utilizado.\n",
    "* EXPLICOU porquê não pode usar o próprio classificador para gerar mais amostras de treinamento\n",
    "* PROPÔS diferentes cenários para Naïve Bayes fora do contexto do projeto (pelo menos dois cenários diferentes, exceto aqueles já apresentados em sala pelos professores: por exemplo, filtro de spam)\n",
    "* SUGERIU e EXPLICOU melhorias reais com indicações concretas de como implementar (indicar como fazer e indicar material de pesquisa)\n",
    "* FEZ o item Qualidade do Classificador a partir de novas separações das mensagens entre Treinamento e Teste descrito no enunciado do projeto (OBRIGATÓRIO para conceitos A ou A+)\n"
   ]
  },
  {
   "cell_type": "markdown",
   "metadata": {},
   "source": [
    "___\n",
    "## Referências"
   ]
  },
  {
   "cell_type": "markdown",
   "metadata": {},
   "source": [
    "[Naive Bayes and Text Classification](https://arxiv.org/pdf/1410.5329.pdf)  **Mais completo**\n",
    "\n",
    "[A practical explanation of a Naive Bayes Classifier](https://monkeylearn.com/blog/practical-explanation-naive-bayes-classifier/) **Mais simples**"
   ]
  },
  {
   "cell_type": "code",
   "execution_count": null,
   "metadata": {},
   "outputs": [],
   "source": []
  }
 ],
 "metadata": {
  "kernelspec": {
   "display_name": "Python 3 (ipykernel)",
   "language": "python",
   "name": "python3"
  },
  "language_info": {
   "codemirror_mode": {
    "name": "ipython",
    "version": 3
   },
   "file_extension": ".py",
   "mimetype": "text/x-python",
   "name": "python",
   "nbconvert_exporter": "python",
   "pygments_lexer": "ipython3",
   "version": "3.11.4"
  }
 },
 "nbformat": 4,
 "nbformat_minor": 4
}
